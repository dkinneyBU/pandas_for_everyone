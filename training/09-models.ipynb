{
 "cells": [
  {
   "cell_type": "code",
   "execution_count": 2,
   "metadata": {},
   "outputs": [],
   "source": [
    "import pandas as pd"
   ]
  },
  {
   "cell_type": "code",
   "execution_count": 3,
   "metadata": {},
   "outputs": [],
   "source": [
    "import seaborn as sns"
   ]
  },
  {
   "cell_type": "code",
   "execution_count": 4,
   "metadata": {},
   "outputs": [],
   "source": [
    "tips = sns.load_dataset('tips')"
   ]
  },
  {
   "cell_type": "code",
   "execution_count": 5,
   "metadata": {},
   "outputs": [
    {
     "data": {
      "text/html": [
       "<div>\n",
       "<style scoped>\n",
       "    .dataframe tbody tr th:only-of-type {\n",
       "        vertical-align: middle;\n",
       "    }\n",
       "\n",
       "    .dataframe tbody tr th {\n",
       "        vertical-align: top;\n",
       "    }\n",
       "\n",
       "    .dataframe thead th {\n",
       "        text-align: right;\n",
       "    }\n",
       "</style>\n",
       "<table border=\"1\" class=\"dataframe\">\n",
       "  <thead>\n",
       "    <tr style=\"text-align: right;\">\n",
       "      <th></th>\n",
       "      <th>total_bill</th>\n",
       "      <th>tip</th>\n",
       "      <th>sex</th>\n",
       "      <th>smoker</th>\n",
       "      <th>day</th>\n",
       "      <th>time</th>\n",
       "      <th>size</th>\n",
       "    </tr>\n",
       "  </thead>\n",
       "  <tbody>\n",
       "    <tr>\n",
       "      <th>0</th>\n",
       "      <td>16.99</td>\n",
       "      <td>1.01</td>\n",
       "      <td>Female</td>\n",
       "      <td>No</td>\n",
       "      <td>Sun</td>\n",
       "      <td>Dinner</td>\n",
       "      <td>2</td>\n",
       "    </tr>\n",
       "    <tr>\n",
       "      <th>1</th>\n",
       "      <td>10.34</td>\n",
       "      <td>1.66</td>\n",
       "      <td>Male</td>\n",
       "      <td>No</td>\n",
       "      <td>Sun</td>\n",
       "      <td>Dinner</td>\n",
       "      <td>3</td>\n",
       "    </tr>\n",
       "    <tr>\n",
       "      <th>2</th>\n",
       "      <td>21.01</td>\n",
       "      <td>3.50</td>\n",
       "      <td>Male</td>\n",
       "      <td>No</td>\n",
       "      <td>Sun</td>\n",
       "      <td>Dinner</td>\n",
       "      <td>3</td>\n",
       "    </tr>\n",
       "    <tr>\n",
       "      <th>3</th>\n",
       "      <td>23.68</td>\n",
       "      <td>3.31</td>\n",
       "      <td>Male</td>\n",
       "      <td>No</td>\n",
       "      <td>Sun</td>\n",
       "      <td>Dinner</td>\n",
       "      <td>2</td>\n",
       "    </tr>\n",
       "    <tr>\n",
       "      <th>4</th>\n",
       "      <td>24.59</td>\n",
       "      <td>3.61</td>\n",
       "      <td>Female</td>\n",
       "      <td>No</td>\n",
       "      <td>Sun</td>\n",
       "      <td>Dinner</td>\n",
       "      <td>4</td>\n",
       "    </tr>\n",
       "  </tbody>\n",
       "</table>\n",
       "</div>"
      ],
      "text/plain": [
       "   total_bill   tip     sex smoker  day    time  size\n",
       "0       16.99  1.01  Female     No  Sun  Dinner     2\n",
       "1       10.34  1.66    Male     No  Sun  Dinner     3\n",
       "2       21.01  3.50    Male     No  Sun  Dinner     3\n",
       "3       23.68  3.31    Male     No  Sun  Dinner     2\n",
       "4       24.59  3.61  Female     No  Sun  Dinner     4"
      ]
     },
     "execution_count": 5,
     "metadata": {},
     "output_type": "execute_result"
    }
   ],
   "source": [
    "tips.head()"
   ]
  },
  {
   "cell_type": "markdown",
   "metadata": {},
   "source": [
    "## (Ordinary) Linear Models"
   ]
  },
  {
   "cell_type": "code",
   "execution_count": 6,
   "metadata": {},
   "outputs": [],
   "source": [
    "import statsmodels.formula.api as smf"
   ]
  },
  {
   "cell_type": "code",
   "execution_count": 7,
   "metadata": {},
   "outputs": [],
   "source": [
    "# Perform linear regression to see hoe the total_bill relates to--or predicts--the tip.\n",
    "# ols: Ordinary Least Squares\n",
    "# response ~ (as a function of) predictor\n",
    "model = smf.ols('tip ~ total_bill', data=tips)"
   ]
  },
  {
   "cell_type": "code",
   "execution_count": 8,
   "metadata": {},
   "outputs": [],
   "source": [
    "results = model.fit()"
   ]
  },
  {
   "cell_type": "code",
   "execution_count": 9,
   "metadata": {},
   "outputs": [
    {
     "name": "stdout",
     "output_type": "stream",
     "text": [
      "                            OLS Regression Results                            \n",
      "==============================================================================\n",
      "Dep. Variable:                    tip   R-squared:                       0.457\n",
      "Model:                            OLS   Adj. R-squared:                  0.454\n",
      "Method:                 Least Squares   F-statistic:                     203.4\n",
      "Date:                Thu, 09 Jan 2020   Prob (F-statistic):           6.69e-34\n",
      "Time:                        07:32:14   Log-Likelihood:                -350.54\n",
      "No. Observations:                 244   AIC:                             705.1\n",
      "Df Residuals:                     242   BIC:                             712.1\n",
      "Df Model:                           1                                         \n",
      "Covariance Type:            nonrobust                                         \n",
      "==============================================================================\n",
      "                 coef    std err          t      P>|t|      [0.025      0.975]\n",
      "------------------------------------------------------------------------------\n",
      "Intercept      0.9203      0.160      5.761      0.000       0.606       1.235\n",
      "total_bill     0.1050      0.007     14.260      0.000       0.091       0.120\n",
      "==============================================================================\n",
      "Omnibus:                       20.185   Durbin-Watson:                   2.151\n",
      "Prob(Omnibus):                  0.000   Jarque-Bera (JB):               37.750\n",
      "Skew:                           0.443   Prob(JB):                     6.35e-09\n",
      "Kurtosis:                       4.711   Cond. No.                         53.0\n",
      "==============================================================================\n",
      "\n",
      "Warnings:\n",
      "[1] Standard Errors assume that the covariance matrix of the errors is correctly specified.\n"
     ]
    }
   ],
   "source": [
    "print(results.summary())"
   ]
  },
  {
   "cell_type": "code",
   "execution_count": 10,
   "metadata": {},
   "outputs": [
    {
     "data": {
      "text/plain": [
       "Intercept     0.920270\n",
       "total_bill    0.105025\n",
       "dtype: float64"
      ]
     },
     "execution_count": 10,
     "metadata": {},
     "output_type": "execute_result"
    }
   ],
   "source": [
    "# To just get the coefficients...\n",
    "results.params"
   ]
  },
  {
   "cell_type": "markdown",
   "metadata": {},
   "source": [
    "**Interpretation:** Recall that the formula for a line is $y = mx + b$, where $y$ is the response variable, $x$ is the predictor, $b$ is the intercept, and $m$ is the slope--the parameter we are estimating.  \n",
    "Therefore, $y = (0.105)x + 0.920$. For every one unit increase in `total_bill`, the tip increases by 0.105 (10.5 cents).\n",
    "***********************************"
   ]
  },
  {
   "cell_type": "markdown",
   "metadata": {},
   "source": [
    "### Multiple Regression"
   ]
  },
  {
   "cell_type": "code",
   "execution_count": 11,
   "metadata": {},
   "outputs": [],
   "source": [
    "model = smf.ols(formula = 'tip ~ total_bill + size', data=tips).fit()"
   ]
  },
  {
   "cell_type": "code",
   "execution_count": 12,
   "metadata": {},
   "outputs": [
    {
     "name": "stdout",
     "output_type": "stream",
     "text": [
      "                            OLS Regression Results                            \n",
      "==============================================================================\n",
      "Dep. Variable:                    tip   R-squared:                       0.468\n",
      "Model:                            OLS   Adj. R-squared:                  0.463\n",
      "Method:                 Least Squares   F-statistic:                     105.9\n",
      "Date:                Thu, 09 Jan 2020   Prob (F-statistic):           9.67e-34\n",
      "Time:                        07:32:14   Log-Likelihood:                -347.99\n",
      "No. Observations:                 244   AIC:                             702.0\n",
      "Df Residuals:                     241   BIC:                             712.5\n",
      "Df Model:                           2                                         \n",
      "Covariance Type:            nonrobust                                         \n",
      "==============================================================================\n",
      "                 coef    std err          t      P>|t|      [0.025      0.975]\n",
      "------------------------------------------------------------------------------\n",
      "Intercept      0.6689      0.194      3.455      0.001       0.288       1.050\n",
      "total_bill     0.0927      0.009     10.172      0.000       0.075       0.111\n",
      "size           0.1926      0.085      2.258      0.025       0.025       0.361\n",
      "==============================================================================\n",
      "Omnibus:                       24.753   Durbin-Watson:                   2.100\n",
      "Prob(Omnibus):                  0.000   Jarque-Bera (JB):               46.169\n",
      "Skew:                           0.545   Prob(JB):                     9.43e-11\n",
      "Kurtosis:                       4.831   Cond. No.                         67.6\n",
      "==============================================================================\n",
      "\n",
      "Warnings:\n",
      "[1] Standard Errors assume that the covariance matrix of the errors is correctly specified.\n"
     ]
    }
   ],
   "source": [
    "print(model.summary())"
   ]
  },
  {
   "cell_type": "markdown",
   "metadata": {},
   "source": [
    "#### Categorical variables\n",
    "When we want to model categorical variables we have to create *dummy* variables. That is, each unique value in a category becomes a new *binary feature*.  \n",
    "`statsmodels` will automatically create the dummy variables. To avoid multicolinearity, we typically drop one of the dummy variables. If we have one column denoting Female, we deduce that if the value is false, that indicates Male."
   ]
  },
  {
   "cell_type": "code",
   "execution_count": 13,
   "metadata": {},
   "outputs": [],
   "source": [
    "model = smf.ols(formula='tip ~ total_bill + size + sex + smoker + day + time',\n",
    "               data=tips).fit()"
   ]
  },
  {
   "cell_type": "code",
   "execution_count": 14,
   "metadata": {},
   "outputs": [
    {
     "name": "stdout",
     "output_type": "stream",
     "text": [
      "                            OLS Regression Results                            \n",
      "==============================================================================\n",
      "Dep. Variable:                    tip   R-squared:                       0.470\n",
      "Model:                            OLS   Adj. R-squared:                  0.452\n",
      "Method:                 Least Squares   F-statistic:                     26.06\n",
      "Date:                Thu, 09 Jan 2020   Prob (F-statistic):           1.20e-28\n",
      "Time:                        07:32:14   Log-Likelihood:                -347.48\n",
      "No. Observations:                 244   AIC:                             713.0\n",
      "Df Residuals:                     235   BIC:                             744.4\n",
      "Df Model:                           8                                         \n",
      "Covariance Type:            nonrobust                                         \n",
      "==================================================================================\n",
      "                     coef    std err          t      P>|t|      [0.025      0.975]\n",
      "----------------------------------------------------------------------------------\n",
      "Intercept          0.5908      0.256      2.310      0.022       0.087       1.095\n",
      "sex[T.Female]      0.0324      0.142      0.229      0.819      -0.247       0.311\n",
      "smoker[T.No]       0.0864      0.147      0.589      0.556      -0.202       0.375\n",
      "day[T.Fri]         0.1623      0.393      0.412      0.680      -0.613       0.937\n",
      "day[T.Sat]         0.0408      0.471      0.087      0.931      -0.886       0.968\n",
      "day[T.Sun]         0.1368      0.472      0.290      0.772      -0.793       1.066\n",
      "time[T.Dinner]    -0.0681      0.445     -0.153      0.878      -0.944       0.808\n",
      "total_bill         0.0945      0.010      9.841      0.000       0.076       0.113\n",
      "size               0.1760      0.090      1.966      0.051      -0.000       0.352\n",
      "==============================================================================\n",
      "Omnibus:                       27.860   Durbin-Watson:                   2.096\n",
      "Prob(Omnibus):                  0.000   Jarque-Bera (JB):               52.555\n",
      "Skew:                           0.607   Prob(JB):                     3.87e-12\n",
      "Kurtosis:                       4.923   Cond. No.                         281.\n",
      "==============================================================================\n",
      "\n",
      "Warnings:\n",
      "[1] Standard Errors assume that the covariance matrix of the errors is correctly specified.\n"
     ]
    }
   ],
   "source": [
    "print(model.summary())"
   ]
  },
  {
   "cell_type": "markdown",
   "metadata": {},
   "source": [
    "**Example Interpretation**: When sex changes from male to female, the tip increases by .324"
   ]
  },
  {
   "cell_type": "markdown",
   "metadata": {},
   "source": [
    "****************************\n",
    "## Generalized Linear Models\n",
    "\n",
    "GLMs account for non-linear data, such as binary or count data, but still uses a linear combination of predictors.  \n",
    "### Logistic Regression"
   ]
  },
  {
   "cell_type": "code",
   "execution_count": 15,
   "metadata": {},
   "outputs": [
    {
     "name": "stdout",
     "output_type": "stream",
     "text": [
      "Index(['Acres', 'FamilyIncome', 'FamilyType', 'NumBedrooms', 'NumChildren',\n",
      "       'NumPeople', 'NumRooms', 'NumUnits', 'NumVehicles', 'NumWorkers',\n",
      "       'OwnRent', 'YearBuilt', 'HouseCosts', 'ElectricBill', 'FoodStamp',\n",
      "       'HeatingFuel', 'Insurance', 'Language'],\n",
      "      dtype='object')\n"
     ]
    },
    {
     "data": {
      "text/html": [
       "<div>\n",
       "<style scoped>\n",
       "    .dataframe tbody tr th:only-of-type {\n",
       "        vertical-align: middle;\n",
       "    }\n",
       "\n",
       "    .dataframe tbody tr th {\n",
       "        vertical-align: top;\n",
       "    }\n",
       "\n",
       "    .dataframe thead th {\n",
       "        text-align: right;\n",
       "    }\n",
       "</style>\n",
       "<table border=\"1\" class=\"dataframe\">\n",
       "  <thead>\n",
       "    <tr style=\"text-align: right;\">\n",
       "      <th></th>\n",
       "      <th>Acres</th>\n",
       "      <th>FamilyIncome</th>\n",
       "      <th>FamilyType</th>\n",
       "      <th>NumBedrooms</th>\n",
       "      <th>NumChildren</th>\n",
       "      <th>NumPeople</th>\n",
       "      <th>NumRooms</th>\n",
       "      <th>NumUnits</th>\n",
       "      <th>NumVehicles</th>\n",
       "      <th>NumWorkers</th>\n",
       "      <th>OwnRent</th>\n",
       "      <th>YearBuilt</th>\n",
       "      <th>HouseCosts</th>\n",
       "      <th>ElectricBill</th>\n",
       "      <th>FoodStamp</th>\n",
       "      <th>HeatingFuel</th>\n",
       "      <th>Insurance</th>\n",
       "      <th>Language</th>\n",
       "    </tr>\n",
       "  </thead>\n",
       "  <tbody>\n",
       "    <tr>\n",
       "      <th>12044</th>\n",
       "      <td>Sub 1</td>\n",
       "      <td>79500</td>\n",
       "      <td>Married</td>\n",
       "      <td>4</td>\n",
       "      <td>3</td>\n",
       "      <td>5</td>\n",
       "      <td>7</td>\n",
       "      <td>Single detached</td>\n",
       "      <td>2</td>\n",
       "      <td>2</td>\n",
       "      <td>Mortgage</td>\n",
       "      <td>1970-1979</td>\n",
       "      <td>1100</td>\n",
       "      <td>130</td>\n",
       "      <td>No</td>\n",
       "      <td>Gas</td>\n",
       "      <td>500</td>\n",
       "      <td>English</td>\n",
       "    </tr>\n",
       "    <tr>\n",
       "      <th>4126</th>\n",
       "      <td>1-10</td>\n",
       "      <td>193000</td>\n",
       "      <td>Married</td>\n",
       "      <td>4</td>\n",
       "      <td>0</td>\n",
       "      <td>4</td>\n",
       "      <td>8</td>\n",
       "      <td>Single detached</td>\n",
       "      <td>4</td>\n",
       "      <td>3</td>\n",
       "      <td>Mortgage</td>\n",
       "      <td>2000-2004</td>\n",
       "      <td>2800</td>\n",
       "      <td>210</td>\n",
       "      <td>No</td>\n",
       "      <td>Oil</td>\n",
       "      <td>1000</td>\n",
       "      <td>English</td>\n",
       "    </tr>\n",
       "    <tr>\n",
       "      <th>5844</th>\n",
       "      <td>Sub 1</td>\n",
       "      <td>24000</td>\n",
       "      <td>Married</td>\n",
       "      <td>3</td>\n",
       "      <td>0</td>\n",
       "      <td>2</td>\n",
       "      <td>6</td>\n",
       "      <td>Single detached</td>\n",
       "      <td>1</td>\n",
       "      <td>1</td>\n",
       "      <td>Mortgage</td>\n",
       "      <td>Before 1939</td>\n",
       "      <td>1800</td>\n",
       "      <td>80</td>\n",
       "      <td>No</td>\n",
       "      <td>Gas</td>\n",
       "      <td>300</td>\n",
       "      <td>English</td>\n",
       "    </tr>\n",
       "    <tr>\n",
       "      <th>17145</th>\n",
       "      <td>Sub 1</td>\n",
       "      <td>132000</td>\n",
       "      <td>Married</td>\n",
       "      <td>4</td>\n",
       "      <td>0</td>\n",
       "      <td>3</td>\n",
       "      <td>8</td>\n",
       "      <td>Single detached</td>\n",
       "      <td>2</td>\n",
       "      <td>3</td>\n",
       "      <td>Mortgage</td>\n",
       "      <td>1970-1979</td>\n",
       "      <td>2900</td>\n",
       "      <td>440</td>\n",
       "      <td>No</td>\n",
       "      <td>Oil</td>\n",
       "      <td>1200</td>\n",
       "      <td>English</td>\n",
       "    </tr>\n",
       "    <tr>\n",
       "      <th>13922</th>\n",
       "      <td>Sub 1</td>\n",
       "      <td>96000</td>\n",
       "      <td>Married</td>\n",
       "      <td>3</td>\n",
       "      <td>2</td>\n",
       "      <td>6</td>\n",
       "      <td>6</td>\n",
       "      <td>Single detached</td>\n",
       "      <td>0</td>\n",
       "      <td>3</td>\n",
       "      <td>Mortgage</td>\n",
       "      <td>1990-1999</td>\n",
       "      <td>2300</td>\n",
       "      <td>100</td>\n",
       "      <td>No</td>\n",
       "      <td>Gas</td>\n",
       "      <td>1000</td>\n",
       "      <td>Other European</td>\n",
       "    </tr>\n",
       "  </tbody>\n",
       "</table>\n",
       "</div>"
      ],
      "text/plain": [
       "       Acres  FamilyIncome FamilyType  NumBedrooms  NumChildren  NumPeople  \\\n",
       "12044  Sub 1         79500    Married            4            3          5   \n",
       "4126    1-10        193000    Married            4            0          4   \n",
       "5844   Sub 1         24000    Married            3            0          2   \n",
       "17145  Sub 1        132000    Married            4            0          3   \n",
       "13922  Sub 1         96000    Married            3            2          6   \n",
       "\n",
       "       NumRooms         NumUnits  NumVehicles  NumWorkers   OwnRent  \\\n",
       "12044         7  Single detached            2           2  Mortgage   \n",
       "4126          8  Single detached            4           3  Mortgage   \n",
       "5844          6  Single detached            1           1  Mortgage   \n",
       "17145         8  Single detached            2           3  Mortgage   \n",
       "13922         6  Single detached            0           3  Mortgage   \n",
       "\n",
       "         YearBuilt  HouseCosts  ElectricBill FoodStamp HeatingFuel  Insurance  \\\n",
       "12044    1970-1979        1100           130        No         Gas        500   \n",
       "4126     2000-2004        2800           210        No         Oil       1000   \n",
       "5844   Before 1939        1800            80        No         Gas        300   \n",
       "17145    1970-1979        2900           440        No         Oil       1200   \n",
       "13922    1990-1999        2300           100        No         Gas       1000   \n",
       "\n",
       "             Language  \n",
       "12044         English  \n",
       "4126          English  \n",
       "5844          English  \n",
       "17145         English  \n",
       "13922  Other European  "
      ]
     },
     "execution_count": 15,
     "metadata": {},
     "output_type": "execute_result"
    }
   ],
   "source": [
    "acs = pd.read_csv('../data/acs_ny.csv')\n",
    "print(acs.columns)\n",
    "acs.sample(5)"
   ]
  },
  {
   "cell_type": "code",
   "execution_count": 16,
   "metadata": {},
   "outputs": [
    {
     "data": {
      "text/plain": [
       "0    18294\n",
       "1     4451\n",
       "Name: ge150k_i, dtype: int64"
      ]
     },
     "execution_count": 16,
     "metadata": {},
     "output_type": "execute_result"
    }
   ],
   "source": [
    "# Create a binary response variable by splitting FamilyIncome into a binary variable.\n",
    "acs['ge150k'] = pd.cut(acs['FamilyIncome'],\n",
    "                      [0, 150000, acs['FamilyIncome'].max()],\n",
    "                      labels = [0, 1])\n",
    "acs['ge150k_i'] = acs['ge150k'].astype(int)\n",
    "acs['ge150k_i'].value_counts()"
   ]
  },
  {
   "cell_type": "code",
   "execution_count": 17,
   "metadata": {},
   "outputs": [
    {
     "name": "stdout",
     "output_type": "stream",
     "text": [
      "Optimization terminated successfully.\n",
      "         Current function value: 0.391651\n",
      "         Iterations 7\n",
      "                           Logit Regression Results                           \n",
      "==============================================================================\n",
      "Dep. Variable:               ge150k_i   No. Observations:                22745\n",
      "Model:                          Logit   Df Residuals:                    22737\n",
      "Method:                           MLE   Df Model:                            7\n",
      "Date:                Thu, 09 Jan 2020   Pseudo R-squ.:                  0.2078\n",
      "Time:                        07:32:15   Log-Likelihood:                -8908.1\n",
      "converged:                       True   LL-Null:                       -11244.\n",
      "Covariance Type:            nonrobust   LLR p-value:                     0.000\n",
      "===========================================================================================\n",
      "                              coef    std err          z      P>|z|      [0.025      0.975]\n",
      "-------------------------------------------------------------------------------------------\n",
      "Intercept                  -5.8081      0.120    -48.456      0.000      -6.043      -5.573\n",
      "OwnRent[T.Outright]         1.8276      0.208      8.782      0.000       1.420       2.236\n",
      "OwnRent[T.Rented]          -0.8763      0.101     -8.647      0.000      -1.075      -0.678\n",
      "FamilyType[T.Male Head]     0.2874      0.150      1.913      0.056      -0.007       0.582\n",
      "FamilyType[T.Married]       1.3877      0.088     15.781      0.000       1.215       1.560\n",
      "HouseCosts                  0.0007   1.72e-05     42.453      0.000       0.001       0.001\n",
      "NumWorkers                  0.5873      0.026     22.393      0.000       0.536       0.639\n",
      "NumBedrooms                 0.2365      0.017     13.985      0.000       0.203       0.270\n",
      "===========================================================================================\n"
     ]
    }
   ],
   "source": [
    "# Using the statsmodels 'logit' (logistic regresion) function...\n",
    "model = smf.logit('ge150k_i ~ HouseCosts + NumWorkers + '\\\n",
    "                 'OwnRent + NumBedrooms + FamilyType',\n",
    "                 data = acs)\n",
    "results = model.fit()\n",
    "print(results.summary())"
   ]
  },
  {
   "cell_type": "markdown",
   "metadata": {},
   "source": [
    "**To interpret a logistic model we first need to *exponentiate* the results...**"
   ]
  },
  {
   "cell_type": "code",
   "execution_count": 18,
   "metadata": {},
   "outputs": [
    {
     "data": {
      "text/plain": [
       "Intercept                  0.003003\n",
       "OwnRent[T.Outright]        6.219147\n",
       "OwnRent[T.Rented]          0.416310\n",
       "FamilyType[T.Male Head]    1.332901\n",
       "FamilyType[T.Married]      4.005636\n",
       "HouseCosts                 1.000731\n",
       "NumWorkers                 1.799117\n",
       "NumBedrooms                1.266852\n",
       "dtype: float64"
      ]
     },
     "execution_count": 18,
     "metadata": {},
     "output_type": "execute_result"
    }
   ],
   "source": [
    "import numpy as np\n",
    "odds_ratios = np.exp(results.params)\n",
    "odds_ratios"
   ]
  },
  {
   "cell_type": "markdown",
   "metadata": {},
   "source": [
    "**Example interpretation**: For every one unit increase in `NumBedrooms` the odds of the `FamilyIncome` being greater than $150k increases by 1.27 times. "
   ]
  },
  {
   "cell_type": "markdown",
   "metadata": {},
   "source": [
    "**************************\n",
    "## Poisson Regression\n",
    "\n",
    "Used when the response variable involves count data, such as `NumChildren`."
   ]
  },
  {
   "cell_type": "code",
   "execution_count": 19,
   "metadata": {},
   "outputs": [
    {
     "name": "stdout",
     "output_type": "stream",
     "text": [
      "Optimization terminated successfully.\n",
      "         Current function value: nan\n",
      "         Iterations 1\n",
      "                          Poisson Regression Results                          \n",
      "==============================================================================\n",
      "Dep. Variable:            NumChildren   No. Observations:                22745\n",
      "Model:                        Poisson   Df Residuals:                    22739\n",
      "Method:                           MLE   Df Model:                            5\n",
      "Date:                Thu, 09 Jan 2020   Pseudo R-squ.:                     nan\n",
      "Time:                        07:32:15   Log-Likelihood:                    nan\n",
      "converged:                       True   LL-Null:                       -30977.\n",
      "Covariance Type:            nonrobust   LLR p-value:                       nan\n",
      "===========================================================================================\n",
      "                              coef    std err          z      P>|z|      [0.025      0.975]\n",
      "-------------------------------------------------------------------------------------------\n",
      "Intercept                      nan        nan        nan        nan         nan         nan\n",
      "FamilyType[T.Male Head]        nan        nan        nan        nan         nan         nan\n",
      "FamilyType[T.Married]          nan        nan        nan        nan         nan         nan\n",
      "OwnRent[T.Outright]            nan        nan        nan        nan         nan         nan\n",
      "OwnRent[T.Rented]              nan        nan        nan        nan         nan         nan\n",
      "FamilyIncome                   nan        nan        nan        nan         nan         nan\n",
      "===========================================================================================\n"
     ]
    },
    {
     "name": "stderr",
     "output_type": "stream",
     "text": [
      "c:\\users\\ugdk93\\env\\lib\\site-packages\\statsmodels\\discrete\\discrete_model.py:1259: RuntimeWarning: overflow encountered in exp\n",
      "  L = np.exp(np.dot(X,params) + exposure + offset)\n",
      "c:\\users\\ugdk93\\env\\lib\\site-packages\\statsmodels\\discrete\\discrete_model.py:1260: RuntimeWarning: overflow encountered in multiply\n",
      "  return -np.dot(L*X.T, X)\n",
      "c:\\users\\ugdk93\\env\\lib\\site-packages\\statsmodels\\discrete\\discrete_model.py:1260: RuntimeWarning: invalid value encountered in multiply\n",
      "  return -np.dot(L*X.T, X)\n",
      "c:\\users\\ugdk93\\env\\lib\\site-packages\\statsmodels\\discrete\\discrete_model.py:1168: RuntimeWarning: overflow encountered in exp\n",
      "  L = np.exp(np.dot(X,params) + offset + exposure)\n",
      "c:\\users\\ugdk93\\env\\lib\\site-packages\\scipy\\stats\\_discrete_distns.py:598: RuntimeWarning: invalid value encountered in greater_equal\n",
      "  return mu >= 0\n",
      "c:\\users\\ugdk93\\env\\lib\\site-packages\\statsmodels\\base\\optimizer.py:299: RuntimeWarning: invalid value encountered in greater\n",
      "  oldparams) > tol)):\n",
      "c:\\users\\ugdk93\\env\\lib\\site-packages\\scipy\\stats\\_distn_infrastructure.py:903: RuntimeWarning: invalid value encountered in greater\n",
      "  return (a < x) & (x < b)\n",
      "c:\\users\\ugdk93\\env\\lib\\site-packages\\scipy\\stats\\_distn_infrastructure.py:903: RuntimeWarning: invalid value encountered in less\n",
      "  return (a < x) & (x < b)\n",
      "c:\\users\\ugdk93\\env\\lib\\site-packages\\scipy\\stats\\_distn_infrastructure.py:1912: RuntimeWarning: invalid value encountered in less_equal\n",
      "  cond2 = cond0 & (x <= _a)\n"
     ]
    }
   ],
   "source": [
    "results = smf.poisson('NumChildren ~ FamilyIncome + FamilyType + OwnRent',\n",
    "                     data=acs).fit()\n",
    "print(results.summary())"
   ]
  },
  {
   "cell_type": "code",
   "execution_count": 20,
   "metadata": {},
   "outputs": [
    {
     "name": "stderr",
     "output_type": "stream",
     "text": [
      "c:\\users\\ugdk93\\env\\lib\\site-packages\\ipykernel_launcher.py:7: DeprecationWarning: Calling Family(..) with a link class as argument is deprecated.\n",
      "Use an instance of a link class instead.\n",
      "  import sys\n"
     ]
    },
    {
     "name": "stdout",
     "output_type": "stream",
     "text": [
      "                 Generalized Linear Model Regression Results                  \n",
      "==============================================================================\n",
      "Dep. Variable:            NumChildren   No. Observations:                22745\n",
      "Model:                            GLM   Df Residuals:                    22739\n",
      "Model Family:                 Poisson   Df Model:                            5\n",
      "Link Function:                    log   Scale:                          1.0000\n",
      "Method:                          IRLS   Log-Likelihood:                -30679.\n",
      "Date:                Thu, 09 Jan 2020   Deviance:                       34643.\n",
      "Time:                        07:32:17   Pearson chi2:                 3.34e+04\n",
      "No. Iterations:                     6                                         \n",
      "Covariance Type:            nonrobust                                         \n",
      "===========================================================================================\n",
      "                              coef    std err          z      P>|z|      [0.025      0.975]\n",
      "-------------------------------------------------------------------------------------------\n",
      "Intercept                  -0.3257      0.021    -15.490      0.000      -0.367      -0.284\n",
      "FamilyType[T.Male Head]    -0.0630      0.038     -1.637      0.102      -0.138       0.012\n",
      "FamilyType[T.Married]       0.1440      0.021      6.707      0.000       0.102       0.186\n",
      "OwnRent[T.Outright]        -1.9737      0.230     -8.599      0.000      -2.424      -1.524\n",
      "OwnRent[T.Rented]           0.4086      0.021     19.772      0.000       0.368       0.449\n",
      "FamilyIncome              5.42e-07   6.57e-08      8.247      0.000    4.13e-07    6.71e-07\n",
      "===========================================================================================\n"
     ]
    }
   ],
   "source": [
    "# Alternatively, this can be done using the glm function and Poisson family.\n",
    "import statsmodels\n",
    "import statsmodels.api as sm\n",
    "\n",
    "model = smf.glm('NumChildren ~ FamilyIncome + FamilyType + OwnRent',\n",
    "               data=acs,\n",
    "               family=sm.families.Poisson(sm.genmod.families.links.log))\n",
    "results = model.fit()\n",
    "print(results.summary())"
   ]
  },
  {
   "cell_type": "markdown",
   "metadata": {},
   "source": [
    "#### Negative Binomial Regression for Overdispersion\n",
    "If our assumptions for Poisson regression are violated--if our data has overdispersion--we can perform a negative binomial regression instead."
   ]
  },
  {
   "cell_type": "code",
   "execution_count": 21,
   "metadata": {},
   "outputs": [
    {
     "name": "stderr",
     "output_type": "stream",
     "text": [
      "c:\\users\\ugdk93\\env\\lib\\site-packages\\ipykernel_launcher.py:3: DeprecationWarning: Calling Family(..) with a link class as argument is deprecated.\n",
      "Use an instance of a link class instead.\n",
      "  This is separate from the ipykernel package so we can avoid doing imports until\n"
     ]
    },
    {
     "name": "stdout",
     "output_type": "stream",
     "text": [
      "                 Generalized Linear Model Regression Results                  \n",
      "==============================================================================\n",
      "Dep. Variable:            NumChildren   No. Observations:                22745\n",
      "Model:                            GLM   Df Residuals:                    22739\n",
      "Model Family:        NegativeBinomial   Df Model:                            5\n",
      "Link Function:                    log   Scale:                          1.0000\n",
      "Method:                          IRLS   Log-Likelihood:                -29749.\n",
      "Date:                Thu, 09 Jan 2020   Deviance:                       20731.\n",
      "Time:                        07:32:17   Pearson chi2:                 1.77e+04\n",
      "No. Iterations:                     6                                         \n",
      "Covariance Type:            nonrobust                                         \n",
      "===========================================================================================\n",
      "                              coef    std err          z      P>|z|      [0.025      0.975]\n",
      "-------------------------------------------------------------------------------------------\n",
      "Intercept                  -0.3345      0.029    -11.672      0.000      -0.391      -0.278\n",
      "FamilyType[T.Male Head]    -0.0468      0.052     -0.905      0.365      -0.148       0.055\n",
      "FamilyType[T.Married]       0.1529      0.029      5.200      0.000       0.095       0.211\n",
      "OwnRent[T.Outright]        -1.9737      0.243     -8.113      0.000      -2.450      -1.497\n",
      "OwnRent[T.Rented]           0.4164      0.030     13.754      0.000       0.357       0.476\n",
      "FamilyIncome             5.398e-07   9.55e-08      5.652      0.000    3.53e-07    7.27e-07\n",
      "===========================================================================================\n"
     ]
    }
   ],
   "source": [
    "model = smf.glm('NumChildren ~ FamilyIncome + FamilyType + OwnRent',\n",
    "               data=acs,\n",
    "               family=sm.families.NegativeBinomial(sm.genmod.families.links.log))\n",
    "results = model.fit()\n",
    "print(results.summary())"
   ]
  },
  {
   "cell_type": "markdown",
   "metadata": {},
   "source": [
    "**See the statsmodels GLM documentation for the various families that can be passed to the `glm` parameter:** www.statsmodels.org/dev/glm.html\n",
    "******************************\n",
    "## Survival Analysis\n",
    "Used then modeling the time to occurrance of a certain event and is performed using the `lifelines` library (https://lifelines.readthedocs.io/en/latest/"
   ]
  },
  {
   "cell_type": "code",
   "execution_count": 22,
   "metadata": {},
   "outputs": [
    {
     "name": "stdout",
     "output_type": "stream",
     "text": [
      "(340, 7)\n"
     ]
    },
    {
     "data": {
      "text/html": [
       "<div>\n",
       "<style scoped>\n",
       "    .dataframe tbody tr th:only-of-type {\n",
       "        vertical-align: middle;\n",
       "    }\n",
       "\n",
       "    .dataframe tbody tr th {\n",
       "        vertical-align: top;\n",
       "    }\n",
       "\n",
       "    .dataframe thead th {\n",
       "        text-align: right;\n",
       "    }\n",
       "</style>\n",
       "<table border=\"1\" class=\"dataframe\">\n",
       "  <thead>\n",
       "    <tr style=\"text-align: right;\">\n",
       "      <th></th>\n",
       "      <th>id</th>\n",
       "      <th>rx</th>\n",
       "      <th>number</th>\n",
       "      <th>size</th>\n",
       "      <th>stop</th>\n",
       "      <th>event</th>\n",
       "      <th>enum</th>\n",
       "    </tr>\n",
       "  </thead>\n",
       "  <tbody>\n",
       "    <tr>\n",
       "      <th>95</th>\n",
       "      <td>24</td>\n",
       "      <td>1</td>\n",
       "      <td>1</td>\n",
       "      <td>5</td>\n",
       "      <td>30</td>\n",
       "      <td>0</td>\n",
       "      <td>4</td>\n",
       "    </tr>\n",
       "    <tr>\n",
       "      <th>328</th>\n",
       "      <td>83</td>\n",
       "      <td>2</td>\n",
       "      <td>3</td>\n",
       "      <td>4</td>\n",
       "      <td>54</td>\n",
       "      <td>0</td>\n",
       "      <td>1</td>\n",
       "    </tr>\n",
       "    <tr>\n",
       "      <th>241</th>\n",
       "      <td>61</td>\n",
       "      <td>2</td>\n",
       "      <td>1</td>\n",
       "      <td>3</td>\n",
       "      <td>25</td>\n",
       "      <td>0</td>\n",
       "      <td>2</td>\n",
       "    </tr>\n",
       "    <tr>\n",
       "      <th>305</th>\n",
       "      <td>77</td>\n",
       "      <td>2</td>\n",
       "      <td>1</td>\n",
       "      <td>2</td>\n",
       "      <td>45</td>\n",
       "      <td>0</td>\n",
       "      <td>2</td>\n",
       "    </tr>\n",
       "    <tr>\n",
       "      <th>161</th>\n",
       "      <td>41</td>\n",
       "      <td>1</td>\n",
       "      <td>3</td>\n",
       "      <td>1</td>\n",
       "      <td>51</td>\n",
       "      <td>0</td>\n",
       "      <td>2</td>\n",
       "    </tr>\n",
       "  </tbody>\n",
       "</table>\n",
       "</div>"
      ],
      "text/plain": [
       "     id  rx  number  size  stop  event  enum\n",
       "95   24   1       1     5    30      0     4\n",
       "328  83   2       3     4    54      0     1\n",
       "241  61   2       1     3    25      0     2\n",
       "305  77   2       1     2    45      0     2\n",
       "161  41   1       3     1    51      0     2"
      ]
     },
     "execution_count": 22,
     "metadata": {},
     "output_type": "execute_result"
    }
   ],
   "source": [
    "bladder = pd.read_csv('../data/bladder.csv')\n",
    "print(bladder.shape)\n",
    "bladder.sample(5)"
   ]
  },
  {
   "cell_type": "code",
   "execution_count": 23,
   "metadata": {},
   "outputs": [
    {
     "data": {
      "text/plain": [
       "1    188\n",
       "2    152\n",
       "Name: rx, dtype: int64"
      ]
     },
     "execution_count": 23,
     "metadata": {},
     "output_type": "execute_result"
    }
   ],
   "source": [
    "# The counts of the different treatments\n",
    "bladder['rx'].value_counts()"
   ]
  },
  {
   "cell_type": "code",
   "execution_count": 24,
   "metadata": {},
   "outputs": [],
   "source": [
    "from lifelines import KaplanMeierFitter"
   ]
  },
  {
   "cell_type": "code",
   "execution_count": 25,
   "metadata": {},
   "outputs": [
    {
     "data": {
      "text/plain": [
       "<lifelines.KaplanMeierFitter:\"KM_estimate\", fitted with 340 total observations, 228 right-censored observations>"
      ]
     },
     "execution_count": 25,
     "metadata": {},
     "output_type": "execute_result"
    }
   ],
   "source": [
    "kmf = KaplanMeierFitter()\n",
    "kmf.fit(bladder['stop'], event_observed=bladder['event'])"
   ]
  },
  {
   "cell_type": "code",
   "execution_count": 26,
   "metadata": {},
   "outputs": [
    {
     "data": {
      "image/png": "[encoded data removed]",
      "text/plain": [
       "<Figure size 432x288 with 1 Axes>"
      ]
     },
     "metadata": {
      "needs_background": "light"
     },
     "output_type": "display_data"
    }
   ],
   "source": [
    "import matplotlib.pyplot as plt\n",
    "\n",
    "fig, ax = plt.subplots()\n",
    "ax = kmf.survival_function_.plot(ax=ax)\n",
    "ax.set_title('Survival with Confidence Intervals')\n",
    "plt.show()"
   ]
  },
  {
   "cell_type": "markdown",
   "metadata": {},
   "source": [
    "Now fit a model to predict survival rate. One such model is the `Cox proportional hazards` model."
   ]
  },
  {
   "cell_type": "code",
   "execution_count": 27,
   "metadata": {},
   "outputs": [
    {
     "data": {
      "text/plain": [
       "<lifelines.CoxPHFitter: fitted with 340 total observations, 228 right-censored observations>"
      ]
     },
     "execution_count": 27,
     "metadata": {},
     "output_type": "execute_result"
    }
   ],
   "source": [
    "from lifelines import CoxPHFitter\n",
    "\n",
    "cph = CoxPHFitter()\n",
    "\n",
    "# Pass in the variables to be used as predictors.\n",
    "cph_bladder_df = bladder[['rx', 'number', 'size', 'enum', 'stop', 'event']]\n",
    "cph.fit(cph_bladder_df, duration_col='stop', event_col='event')"
   ]
  },
  {
   "cell_type": "code",
   "execution_count": 28,
   "metadata": {},
   "outputs": [
    {
     "data": {
      "text/html": [
       "<div>\n",
       "<style scoped>\n",
       "    .dataframe tbody tr th:only-of-type {\n",
       "        vertical-align: middle;\n",
       "    }\n",
       "\n",
       "    .dataframe tbody tr th {\n",
       "        vertical-align: top;\n",
       "    }\n",
       "\n",
       "    .dataframe thead th {\n",
       "        text-align: right;\n",
       "    }\n",
       "</style>\n",
       "<table border=\"1\" class=\"dataframe\">\n",
       "  <tbody>\n",
       "    <tr>\n",
       "      <th>model</th>\n",
       "      <td>lifelines.CoxPHFitter</td>\n",
       "    </tr>\n",
       "    <tr>\n",
       "      <th>duration col</th>\n",
       "      <td>'stop'</td>\n",
       "    </tr>\n",
       "    <tr>\n",
       "      <th>event col</th>\n",
       "      <td>'event'</td>\n",
       "    </tr>\n",
       "    <tr>\n",
       "      <th>number of observations</th>\n",
       "      <td>340</td>\n",
       "    </tr>\n",
       "    <tr>\n",
       "      <th>number of events observed</th>\n",
       "      <td>112</td>\n",
       "    </tr>\n",
       "    <tr>\n",
       "      <th>partial log-likelihood</th>\n",
       "      <td>-565.66</td>\n",
       "    </tr>\n",
       "    <tr>\n",
       "      <th>time fit was run</th>\n",
       "      <td>2020-01-09 12:32:18 UTC</td>\n",
       "    </tr>\n",
       "  </tbody>\n",
       "</table>\n",
       "</div><table border=\"1\" class=\"dataframe\">\n",
       "  <thead>\n",
       "    <tr style=\"text-align: right;\">\n",
       "      <th></th>\n",
       "      <th>coef</th>\n",
       "      <th>exp(coef)</th>\n",
       "      <th>se(coef)</th>\n",
       "      <th>coef lower 95%</th>\n",
       "      <th>coef upper 95%</th>\n",
       "      <th>exp(coef) lower 95%</th>\n",
       "      <th>exp(coef) upper 95%</th>\n",
       "      <th>z</th>\n",
       "      <th>p</th>\n",
       "      <th>-log2(p)</th>\n",
       "    </tr>\n",
       "  </thead>\n",
       "  <tbody>\n",
       "    <tr>\n",
       "      <th>rx</th>\n",
       "      <td>-0.60</td>\n",
       "      <td>0.55</td>\n",
       "      <td>0.20</td>\n",
       "      <td>-0.99</td>\n",
       "      <td>-0.20</td>\n",
       "      <td>0.37</td>\n",
       "      <td>0.82</td>\n",
       "      <td>-2.97</td>\n",
       "      <td>&lt;0.005</td>\n",
       "      <td>8.41</td>\n",
       "    </tr>\n",
       "    <tr>\n",
       "      <th>number</th>\n",
       "      <td>0.22</td>\n",
       "      <td>1.24</td>\n",
       "      <td>0.05</td>\n",
       "      <td>0.13</td>\n",
       "      <td>0.31</td>\n",
       "      <td>1.13</td>\n",
       "      <td>1.36</td>\n",
       "      <td>4.68</td>\n",
       "      <td>&lt;0.005</td>\n",
       "      <td>18.38</td>\n",
       "    </tr>\n",
       "    <tr>\n",
       "      <th>size</th>\n",
       "      <td>-0.06</td>\n",
       "      <td>0.94</td>\n",
       "      <td>0.07</td>\n",
       "      <td>-0.20</td>\n",
       "      <td>0.08</td>\n",
       "      <td>0.82</td>\n",
       "      <td>1.09</td>\n",
       "      <td>-0.80</td>\n",
       "      <td>0.42</td>\n",
       "      <td>1.24</td>\n",
       "    </tr>\n",
       "    <tr>\n",
       "      <th>enum</th>\n",
       "      <td>-0.60</td>\n",
       "      <td>0.55</td>\n",
       "      <td>0.09</td>\n",
       "      <td>-0.79</td>\n",
       "      <td>-0.42</td>\n",
       "      <td>0.45</td>\n",
       "      <td>0.66</td>\n",
       "      <td>-6.42</td>\n",
       "      <td>&lt;0.005</td>\n",
       "      <td>32.80</td>\n",
       "    </tr>\n",
       "  </tbody>\n",
       "</table><div>\n",
       "<style scoped>\n",
       "    .dataframe tbody tr th:only-of-type {\n",
       "        vertical-align: middle;\n",
       "    }\n",
       "\n",
       "    .dataframe tbody tr th {\n",
       "        vertical-align: top;\n",
       "    }\n",
       "\n",
       "    .dataframe thead th {\n",
       "        text-align: right;\n",
       "    }\n",
       "</style>\n",
       "<table border=\"1\" class=\"dataframe\">\n",
       "  <tbody>\n",
       "    <tr>\n",
       "      <th>Concordance</th>\n",
       "      <td>0.75</td>\n",
       "    </tr>\n",
       "    <tr>\n",
       "      <th>Log-likelihood ratio test</th>\n",
       "      <td>67.21 on 4 df, -log2(p)=43.37</td>\n",
       "    </tr>\n",
       "  </tbody>\n",
       "</table>\n",
       "</div>"
      ],
      "text/plain": [
       "<IPython.core.display.HTML object>"
      ]
     },
     "metadata": {},
     "output_type": "display_data"
    },
    {
     "name": "stdout",
     "output_type": "stream",
     "text": [
      "None\n"
     ]
    }
   ],
   "source": [
    "print(cph.print_summary())"
   ]
  },
  {
   "cell_type": "markdown",
   "metadata": {},
   "source": [
    "#### Testing the Cox Model Assumptions\n",
    "Plot a separate survival curve by strata (in this example, the values of the `rx` columns, meaning we will plot a curve for each type of treatment. If the log(-log(survival curve) vs. the log(time) curves cross each other, then it signals the model needs to be stratified by the variable."
   ]
  },
  {
   "cell_type": "code",
   "execution_count": 29,
   "metadata": {},
   "outputs": [
    {
     "name": "stderr",
     "output_type": "stream",
     "text": [
      "c:\\users\\ugdk93\\env\\lib\\site-packages\\pandas\\plotting\\_matplotlib\\core.py:1085: UserWarning: Attempted to set non-positive left xlim on a log-scaled axis.\n",
      "Invalid limit will be ignored.\n",
      "  ax.set_xlim(left, right)\n"
     ]
    },
    {
     "data": {
      "image/png": "[encoded data removed]",
      "text/plain": [
       "<Figure size 432x288 with 1 Axes>"
      ]
     },
     "metadata": {
      "needs_background": "light"
     },
     "output_type": "display_data"
    }
   ],
   "source": [
    "rx1 = bladder.loc[bladder['rx'] == 1]\n",
    "rx2 = bladder.loc[bladder['rx'] == 2]\n",
    "\n",
    "kmf1 = KaplanMeierFitter()\n",
    "kmf1.fit(rx1['stop'], event_observed=rx1['event'])\n",
    "\n",
    "kmf2 = KaplanMeierFitter()\n",
    "kmf2.fit(rx2['stop'], event_observed=rx2['event'])\n",
    "\n",
    "fig, axes = plt.subplots()\n",
    "\n",
    "# put both plots on the same axes\n",
    "kmf1.plot_loglogs(ax=axes)\n",
    "kmf2.plot_loglogs(ax=axes)\n",
    "\n",
    "axes.legend(['rx1', 'rx2'])\n",
    "\n",
    "plt.show()"
   ]
  },
  {
   "cell_type": "markdown",
   "metadata": {},
   "source": [
    "Since the lines cross, it makes sense to stratify our analysis."
   ]
  },
  {
   "cell_type": "code",
   "execution_count": 30,
   "metadata": {},
   "outputs": [
    {
     "data": {
      "text/html": [
       "<div>\n",
       "<style scoped>\n",
       "    .dataframe tbody tr th:only-of-type {\n",
       "        vertical-align: middle;\n",
       "    }\n",
       "\n",
       "    .dataframe tbody tr th {\n",
       "        vertical-align: top;\n",
       "    }\n",
       "\n",
       "    .dataframe thead th {\n",
       "        text-align: right;\n",
       "    }\n",
       "</style>\n",
       "<table border=\"1\" class=\"dataframe\">\n",
       "  <tbody>\n",
       "    <tr>\n",
       "      <th>model</th>\n",
       "      <td>lifelines.CoxPHFitter</td>\n",
       "    </tr>\n",
       "    <tr>\n",
       "      <th>duration col</th>\n",
       "      <td>'stop'</td>\n",
       "    </tr>\n",
       "    <tr>\n",
       "      <th>event col</th>\n",
       "      <td>'event'</td>\n",
       "    </tr>\n",
       "    <tr>\n",
       "      <th>strata</th>\n",
       "      <td>[rx]</td>\n",
       "    </tr>\n",
       "    <tr>\n",
       "      <th>number of observations</th>\n",
       "      <td>340</td>\n",
       "    </tr>\n",
       "    <tr>\n",
       "      <th>number of events observed</th>\n",
       "      <td>112</td>\n",
       "    </tr>\n",
       "    <tr>\n",
       "      <th>partial log-likelihood</th>\n",
       "      <td>-493.52</td>\n",
       "    </tr>\n",
       "    <tr>\n",
       "      <th>time fit was run</th>\n",
       "      <td>2020-01-09 12:32:19 UTC</td>\n",
       "    </tr>\n",
       "  </tbody>\n",
       "</table>\n",
       "</div><table border=\"1\" class=\"dataframe\">\n",
       "  <thead>\n",
       "    <tr style=\"text-align: right;\">\n",
       "      <th></th>\n",
       "      <th>coef</th>\n",
       "      <th>exp(coef)</th>\n",
       "      <th>se(coef)</th>\n",
       "      <th>coef lower 95%</th>\n",
       "      <th>coef upper 95%</th>\n",
       "      <th>exp(coef) lower 95%</th>\n",
       "      <th>exp(coef) upper 95%</th>\n",
       "      <th>z</th>\n",
       "      <th>p</th>\n",
       "      <th>-log2(p)</th>\n",
       "    </tr>\n",
       "  </thead>\n",
       "  <tbody>\n",
       "    <tr>\n",
       "      <th>number</th>\n",
       "      <td>0.21</td>\n",
       "      <td>1.24</td>\n",
       "      <td>0.05</td>\n",
       "      <td>0.12</td>\n",
       "      <td>0.30</td>\n",
       "      <td>1.13</td>\n",
       "      <td>1.36</td>\n",
       "      <td>4.60</td>\n",
       "      <td>&lt;0.005</td>\n",
       "      <td>17.84</td>\n",
       "    </tr>\n",
       "    <tr>\n",
       "      <th>size</th>\n",
       "      <td>-0.05</td>\n",
       "      <td>0.95</td>\n",
       "      <td>0.07</td>\n",
       "      <td>-0.19</td>\n",
       "      <td>0.08</td>\n",
       "      <td>0.82</td>\n",
       "      <td>1.09</td>\n",
       "      <td>-0.77</td>\n",
       "      <td>0.44</td>\n",
       "      <td>1.19</td>\n",
       "    </tr>\n",
       "    <tr>\n",
       "      <th>enum</th>\n",
       "      <td>-0.61</td>\n",
       "      <td>0.55</td>\n",
       "      <td>0.09</td>\n",
       "      <td>-0.79</td>\n",
       "      <td>-0.42</td>\n",
       "      <td>0.45</td>\n",
       "      <td>0.66</td>\n",
       "      <td>-6.45</td>\n",
       "      <td>&lt;0.005</td>\n",
       "      <td>33.07</td>\n",
       "    </tr>\n",
       "  </tbody>\n",
       "</table><div>\n",
       "<style scoped>\n",
       "    .dataframe tbody tr th:only-of-type {\n",
       "        vertical-align: middle;\n",
       "    }\n",
       "\n",
       "    .dataframe tbody tr th {\n",
       "        vertical-align: top;\n",
       "    }\n",
       "\n",
       "    .dataframe thead th {\n",
       "        text-align: right;\n",
       "    }\n",
       "</style>\n",
       "<table border=\"1\" class=\"dataframe\">\n",
       "  <tbody>\n",
       "    <tr>\n",
       "      <th>Concordance</th>\n",
       "      <td>0.74</td>\n",
       "    </tr>\n",
       "    <tr>\n",
       "      <th>Log-likelihood ratio test</th>\n",
       "      <td>61.84 on 3 df, -log2(p)=41.93</td>\n",
       "    </tr>\n",
       "  </tbody>\n",
       "</table>\n",
       "</div>"
      ],
      "text/plain": [
       "<IPython.core.display.HTML object>"
      ]
     },
     "metadata": {},
     "output_type": "display_data"
    },
    {
     "name": "stdout",
     "output_type": "stream",
     "text": [
      "None\n"
     ]
    }
   ],
   "source": [
    "cph_strat = CoxPHFitter()\n",
    "cph_strat.fit(cph_bladder_df, duration_col='stop', event_col='event',\n",
    "             strata=['rx'])\n",
    "print(cph_strat.print_summary())"
   ]
  },
  {
   "cell_type": "markdown",
   "metadata": {},
   "source": [
    "********************************************\n",
    "## Model Diagnostics\n",
    "\n",
    "### Residuals\n",
    "The residuals of a model compare what the model calculates and the actual values in the data."
   ]
  },
  {
   "cell_type": "code",
   "execution_count": 31,
   "metadata": {},
   "outputs": [
    {
     "data": {
      "text/html": [
       "<div>\n",
       "<style scoped>\n",
       "    .dataframe tbody tr th:only-of-type {\n",
       "        vertical-align: middle;\n",
       "    }\n",
       "\n",
       "    .dataframe tbody tr th {\n",
       "        vertical-align: top;\n",
       "    }\n",
       "\n",
       "    .dataframe thead th {\n",
       "        text-align: right;\n",
       "    }\n",
       "</style>\n",
       "<table border=\"1\" class=\"dataframe\">\n",
       "  <thead>\n",
       "    <tr style=\"text-align: right;\">\n",
       "      <th></th>\n",
       "      <th>neighborhood</th>\n",
       "      <th>type</th>\n",
       "      <th>units</th>\n",
       "      <th>year_built</th>\n",
       "      <th>sq_ft</th>\n",
       "      <th>income</th>\n",
       "      <th>income_per_sq_ft</th>\n",
       "      <th>expense</th>\n",
       "      <th>expense_per_sq_ft</th>\n",
       "      <th>net_income</th>\n",
       "      <th>value</th>\n",
       "      <th>value_per_sq_ft</th>\n",
       "      <th>boro</th>\n",
       "    </tr>\n",
       "  </thead>\n",
       "  <tbody>\n",
       "    <tr>\n",
       "      <th>750</th>\n",
       "      <td>UPPER WEST SIDE (59-79)</td>\n",
       "      <td>R4-CONDOMINIUM</td>\n",
       "      <td>222</td>\n",
       "      <td>1988.0</td>\n",
       "      <td>269253</td>\n",
       "      <td>11120149</td>\n",
       "      <td>41.30</td>\n",
       "      <td>3642993</td>\n",
       "      <td>13.53</td>\n",
       "      <td>7477156</td>\n",
       "      <td>56460998</td>\n",
       "      <td>209.69</td>\n",
       "      <td>Manhattan</td>\n",
       "    </tr>\n",
       "    <tr>\n",
       "      <th>511</th>\n",
       "      <td>CHELSEA</td>\n",
       "      <td>R4-CONDOMINIUM</td>\n",
       "      <td>64</td>\n",
       "      <td>2005.0</td>\n",
       "      <td>118000</td>\n",
       "      <td>4960000</td>\n",
       "      <td>42.03</td>\n",
       "      <td>1360000</td>\n",
       "      <td>11.53</td>\n",
       "      <td>3600000</td>\n",
       "      <td>25460999</td>\n",
       "      <td>215.77</td>\n",
       "      <td>Manhattan</td>\n",
       "    </tr>\n",
       "    <tr>\n",
       "      <th>2210</th>\n",
       "      <td>ELMHURST</td>\n",
       "      <td>R2-CONDOMINIUM</td>\n",
       "      <td>24</td>\n",
       "      <td>1988.0</td>\n",
       "      <td>19769</td>\n",
       "      <td>366320</td>\n",
       "      <td>18.53</td>\n",
       "      <td>168037</td>\n",
       "      <td>8.50</td>\n",
       "      <td>198283</td>\n",
       "      <td>1176974</td>\n",
       "      <td>59.54</td>\n",
       "      <td>Queens</td>\n",
       "    </tr>\n",
       "    <tr>\n",
       "      <th>1860</th>\n",
       "      <td>WILLIAMSBURG-EAST</td>\n",
       "      <td>R4-CONDOMINIUM</td>\n",
       "      <td>12</td>\n",
       "      <td>2006.0</td>\n",
       "      <td>16627</td>\n",
       "      <td>323894</td>\n",
       "      <td>19.48</td>\n",
       "      <td>132797</td>\n",
       "      <td>7.99</td>\n",
       "      <td>191097</td>\n",
       "      <td>1370000</td>\n",
       "      <td>82.40</td>\n",
       "      <td>Brooklyn</td>\n",
       "    </tr>\n",
       "    <tr>\n",
       "      <th>1478</th>\n",
       "      <td>SUNSET PARK</td>\n",
       "      <td>R4-CONDOMINIUM</td>\n",
       "      <td>15</td>\n",
       "      <td>2008.0</td>\n",
       "      <td>24043</td>\n",
       "      <td>433736</td>\n",
       "      <td>18.04</td>\n",
       "      <td>154596</td>\n",
       "      <td>6.43</td>\n",
       "      <td>279140</td>\n",
       "      <td>2044001</td>\n",
       "      <td>85.01</td>\n",
       "      <td>Brooklyn</td>\n",
       "    </tr>\n",
       "  </tbody>\n",
       "</table>\n",
       "</div>"
      ],
      "text/plain": [
       "                 neighborhood            type  units  year_built   sq_ft  \\\n",
       "750   UPPER WEST SIDE (59-79)  R4-CONDOMINIUM    222      1988.0  269253   \n",
       "511                   CHELSEA  R4-CONDOMINIUM     64      2005.0  118000   \n",
       "2210                 ELMHURST  R2-CONDOMINIUM     24      1988.0   19769   \n",
       "1860        WILLIAMSBURG-EAST  R4-CONDOMINIUM     12      2006.0   16627   \n",
       "1478              SUNSET PARK  R4-CONDOMINIUM     15      2008.0   24043   \n",
       "\n",
       "        income  income_per_sq_ft  expense  expense_per_sq_ft  net_income  \\\n",
       "750   11120149             41.30  3642993              13.53     7477156   \n",
       "511    4960000             42.03  1360000              11.53     3600000   \n",
       "2210    366320             18.53   168037               8.50      198283   \n",
       "1860    323894             19.48   132797               7.99      191097   \n",
       "1478    433736             18.04   154596               6.43      279140   \n",
       "\n",
       "         value  value_per_sq_ft       boro  \n",
       "750   56460998           209.69  Manhattan  \n",
       "511   25460999           215.77  Manhattan  \n",
       "2210   1176974            59.54     Queens  \n",
       "1860   1370000            82.40   Brooklyn  \n",
       "1478   2044001            85.01   Brooklyn  "
      ]
     },
     "execution_count": 31,
     "metadata": {},
     "output_type": "execute_result"
    }
   ],
   "source": [
    "housing = pd.read_csv('../data/housing_renamed.csv')\n",
    "housing.sample(5)"
   ]
  },
  {
   "cell_type": "code",
   "execution_count": 32,
   "metadata": {},
   "outputs": [
    {
     "name": "stdout",
     "output_type": "stream",
     "text": [
      "                 Generalized Linear Model Regression Results                  \n",
      "==============================================================================\n",
      "Dep. Variable:        value_per_sq_ft   No. Observations:                 2626\n",
      "Model:                            GLM   Df Residuals:                     2619\n",
      "Model Family:                Gaussian   Df Model:                            6\n",
      "Link Function:               identity   Scale:                          1879.5\n",
      "Method:                          IRLS   Log-Likelihood:                -13621.\n",
      "Date:                Thu, 09 Jan 2020   Deviance:                   4.9224e+06\n",
      "Time:                        07:32:20   Pearson chi2:                 4.92e+06\n",
      "No. Iterations:                     3                                         \n",
      "Covariance Type:            nonrobust                                         \n",
      "=========================================================================================\n",
      "                            coef    std err          z      P>|z|      [0.025      0.975]\n",
      "-----------------------------------------------------------------------------------------\n",
      "Intercept                43.2909      5.330      8.122      0.000      32.845      53.737\n",
      "boro[T.Brooklyn]         34.5621      5.535      6.244      0.000      23.714      45.411\n",
      "boro[T.Manhattan]       130.9924      5.385     24.327      0.000     120.439     141.546\n",
      "boro[T.Queens]           32.9937      5.663      5.827      0.000      21.895      44.092\n",
      "boro[T.Staten Island]    -3.6303      9.993     -0.363      0.716     -23.216      15.956\n",
      "units                    -0.1881      0.022     -8.511      0.000      -0.231      -0.145\n",
      "sq_ft                     0.0002   2.09e-05     10.079      0.000       0.000       0.000\n",
      "=========================================================================================\n"
     ]
    }
   ],
   "source": [
    "# Let's begin with a multiple linear regression model with three covariates.\n",
    "house1 = smf.glm('value_per_sq_ft ~ units + sq_ft + boro',\n",
    "                data=housing).fit()\n",
    "print(house1.summary())"
   ]
  },
  {
   "cell_type": "markdown",
   "metadata": {},
   "source": [
    "Plotting the model residuals, we are looking for a random scattering of points. If a pattern is apparent then we will need to investigate our data and model as to why the pattern emerged."
   ]
  },
  {
   "cell_type": "code",
   "execution_count": 33,
   "metadata": {},
   "outputs": [
    {
     "data": {
      "image/png": "[encoded data removed]",
      "text/plain": [
       "<Figure size 432x288 with 1 Axes>"
      ]
     },
     "metadata": {
      "needs_background": "light"
     },
     "output_type": "display_data"
    }
   ],
   "source": [
    "fig, ax = plt.subplots()\n",
    "ax = sns.regplot(x=house1.fittedvalues,\n",
    "                y=house1.resid_deviance, fit_reg=False)\n",
    "plt.show()"
   ]
  },
  {
   "cell_type": "code",
   "execution_count": 34,
   "metadata": {},
   "outputs": [],
   "source": [
    "fig.savefig('../images/resid_1')"
   ]
  },
  {
   "cell_type": "code",
   "execution_count": 35,
   "metadata": {},
   "outputs": [
    {
     "data": {
      "image/png": "[encoded data removed]",
      "text/plain": [
       "<Figure size 461.625x360 with 1 Axes>"
      ]
     },
     "metadata": {
      "needs_background": "light"
     },
     "output_type": "display_data"
    }
   ],
   "source": [
    "# Plot shows clustering, which is concerning. Color plot by boro.\n",
    "res_df = pd.DataFrame({\n",
    "    'fittedvalues': house1.fittedvalues,\n",
    "    'resid_deviance': house1.resid_deviance,\n",
    "    'boro': housing['boro']\n",
    "})\n",
    "\n",
    "fig = sns.lmplot(x='fittedvalues', y='resid_deviance',\n",
    "                data=res_df, hue='boro', fit_reg=False)\n",
    "plt.show()\n",
    "fig.savefig('../images/resid_boros')"
   ]
  },
  {
   "cell_type": "markdown",
   "metadata": {},
   "source": [
    "#### Q-Q Plots\n",
    "a q-q plote is a graphical technique that determines whether your data conforms to a reference distribution. This is one way to verify if your data is normal."
   ]
  },
  {
   "cell_type": "code",
   "execution_count": 36,
   "metadata": {},
   "outputs": [
    {
     "data": {
      "image/png": "[encoded data removed]",
      "text/plain": [
       "<Figure size 432x288 with 1 Axes>"
      ]
     },
     "metadata": {
      "needs_background": "light"
     },
     "output_type": "display_data"
    }
   ],
   "source": [
    "from scipy import stats\n",
    "\n",
    "resid = house1.resid_deviance.copy()\n",
    "resid_std = stats.zscore(resid)\n",
    "\n",
    "fig = statsmodels.graphics.gofplots.qqplot(resid, line='r')\n",
    "plt.show()\n",
    "\n",
    "fig.savefig('../images/house_1_qq')"
   ]
  },
  {
   "cell_type": "markdown",
   "metadata": {},
   "source": [
    "If the points lie on the red line, our data match our reference distribution. If they don't, we can apply a *transformation*. Some examples are, square, square root, log, reciprocal square root, and reciprocal square."
   ]
  },
  {
   "cell_type": "code",
   "execution_count": 37,
   "metadata": {},
   "outputs": [
    {
     "data": {
      "image/png": "[encoded data removed]",
      "text/plain": [
       "<Figure size 432x288 with 1 Axes>"
      ]
     },
     "metadata": {
      "needs_background": "light"
     },
     "output_type": "display_data"
    }
   ],
   "source": [
    "# We can also plot a historgram to verify normality.\n",
    "fix, ax = plt.subplots()\n",
    "ax = sns.distplot(resid_std)\n",
    "plt.show()\n",
    "\n",
    "fig.savefig('../images/house1_resid_std')"
   ]
  },
  {
   "cell_type": "markdown",
   "metadata": {},
   "source": [
    "**********************************\n",
    "### Comparing Multiple Models"
   ]
  },
  {
   "cell_type": "code",
   "execution_count": 38,
   "metadata": {},
   "outputs": [],
   "source": [
    "# The * operator indicates interaction; that is, the variables that are interacting\n",
    "# are behaving in such a way that is not dependent from one another, but rather in\n",
    "# such a way that their values affect one another and are not simply additive.\n",
    "f1 = 'value_per_sq_ft ~ units + sq_ft + boro'\n",
    "f2 = 'value_per_sq_ft ~ units * sq_ft + boro'\n",
    "f3 = 'value_per_sq_ft ~ units + sq_ft * boro + type'\n",
    "f4 = 'value_per_sq_ft ~ units + sq_ft * boro + sq_ft * type'\n",
    "f5 = 'value_per_sq_ft ~ boro + type'\n",
    "\n",
    "house1 = smf.ols(f1, data=housing).fit()\n",
    "house2 = smf.ols(f2, data=housing).fit()\n",
    "house3 = smf.ols(f3, data=housing).fit()\n",
    "house4 = smf.ols(f4, data=housing).fit()\n",
    "house5 = smf.ols(f5, data=housing).fit()"
   ]
  },
  {
   "cell_type": "code",
   "execution_count": 39,
   "metadata": {},
   "outputs": [
    {
     "name": "stderr",
     "output_type": "stream",
     "text": [
      "c:\\users\\ugdk93\\env\\lib\\site-packages\\ipykernel_launcher.py:2: FutureWarning: Sorting because non-concatenation axis is not aligned. A future version\n",
      "of pandas will change to not sort by default.\n",
      "\n",
      "To accept the future behavior, pass 'sort=False'.\n",
      "\n",
      "To retain the current behavior and silence the warning, pass 'sort=True'.\n",
      "\n",
      "  \n"
     ]
    }
   ],
   "source": [
    "mod_results = pd.concat([house1.params, house2.params, house3.params, \n",
    "                       house4.params, house5.params], axis=1).\\\n",
    "    rename(columns=lambda x: 'house' + str(x + 1)).\\\n",
    "    reset_index().\\\n",
    "    rename(columns={'index': 'param'}).\\\n",
    "    melt(id_vars='param', var_name='model', value_name='estimate')"
   ]
  },
  {
   "cell_type": "code",
   "execution_count": 40,
   "metadata": {},
   "outputs": [
    {
     "data": {
      "text/html": [
       "<div>\n",
       "<style scoped>\n",
       "    .dataframe tbody tr th:only-of-type {\n",
       "        vertical-align: middle;\n",
       "    }\n",
       "\n",
       "    .dataframe tbody tr th {\n",
       "        vertical-align: top;\n",
       "    }\n",
       "\n",
       "    .dataframe thead th {\n",
       "        text-align: right;\n",
       "    }\n",
       "</style>\n",
       "<table border=\"1\" class=\"dataframe\">\n",
       "  <thead>\n",
       "    <tr style=\"text-align: right;\">\n",
       "      <th></th>\n",
       "      <th>param</th>\n",
       "      <th>model</th>\n",
       "      <th>estimate</th>\n",
       "    </tr>\n",
       "  </thead>\n",
       "  <tbody>\n",
       "    <tr>\n",
       "      <th>69</th>\n",
       "      <td>type[T.RR-CONDOMINIUM]</td>\n",
       "      <td>house4</td>\n",
       "      <td>-2.958482e+01</td>\n",
       "    </tr>\n",
       "    <tr>\n",
       "      <th>40</th>\n",
       "      <td>boro[T.Staten Island]</td>\n",
       "      <td>house3</td>\n",
       "      <td>-1.564096e+01</td>\n",
       "    </tr>\n",
       "    <tr>\n",
       "      <th>45</th>\n",
       "      <td>sq_ft:boro[T.Staten Island]</td>\n",
       "      <td>house3</td>\n",
       "      <td>-1.739492e-05</td>\n",
       "    </tr>\n",
       "    <tr>\n",
       "      <th>35</th>\n",
       "      <td>units:sq_ft</td>\n",
       "      <td>house2</td>\n",
       "      <td>-2.255855e-08</td>\n",
       "    </tr>\n",
       "    <tr>\n",
       "      <th>74</th>\n",
       "      <td>boro[T.Manhattan]</td>\n",
       "      <td>house5</td>\n",
       "      <td>1.268014e+02</td>\n",
       "    </tr>\n",
       "    <tr>\n",
       "      <th>2</th>\n",
       "      <td>boro[T.Manhattan]</td>\n",
       "      <td>house1</td>\n",
       "      <td>1.309924e+02</td>\n",
       "    </tr>\n",
       "    <tr>\n",
       "      <th>18</th>\n",
       "      <td>Intercept</td>\n",
       "      <td>house2</td>\n",
       "      <td>4.445184e+01</td>\n",
       "    </tr>\n",
       "    <tr>\n",
       "      <th>34</th>\n",
       "      <td>units</td>\n",
       "      <td>house2</td>\n",
       "      <td>-1.478411e-01</td>\n",
       "    </tr>\n",
       "    <tr>\n",
       "      <th>51</th>\n",
       "      <td>type[T.RR-CONDOMINIUM]</td>\n",
       "      <td>house3</td>\n",
       "      <td>-1.450711e+01</td>\n",
       "    </tr>\n",
       "    <tr>\n",
       "      <th>63</th>\n",
       "      <td>sq_ft:boro[T.Staten Island]</td>\n",
       "      <td>house4</td>\n",
       "      <td>-1.627792e-05</td>\n",
       "    </tr>\n",
       "  </tbody>\n",
       "</table>\n",
       "</div>"
      ],
      "text/plain": [
       "                          param   model      estimate\n",
       "69       type[T.RR-CONDOMINIUM]  house4 -2.958482e+01\n",
       "40        boro[T.Staten Island]  house3 -1.564096e+01\n",
       "45  sq_ft:boro[T.Staten Island]  house3 -1.739492e-05\n",
       "35                  units:sq_ft  house2 -2.255855e-08\n",
       "74            boro[T.Manhattan]  house5  1.268014e+02\n",
       "2             boro[T.Manhattan]  house1  1.309924e+02\n",
       "18                    Intercept  house2  4.445184e+01\n",
       "34                        units  house2 -1.478411e-01\n",
       "51       type[T.RR-CONDOMINIUM]  house3 -1.450711e+01\n",
       "63  sq_ft:boro[T.Staten Island]  house4 -1.627792e-05"
      ]
     },
     "execution_count": 40,
     "metadata": {},
     "output_type": "execute_result"
    }
   ],
   "source": [
    "mod_results.sample(10)"
   ]
  },
  {
   "cell_type": "code",
   "execution_count": 41,
   "metadata": {},
   "outputs": [
    {
     "data": {
      "image/png": "[encoded data removed]",
      "text/plain": [
       "<Figure size 432x288 with 1 Axes>"
      ]
     },
     "metadata": {
      "needs_background": "light"
     },
     "output_type": "display_data"
    }
   ],
   "source": [
    "# Plot the coefficients to see how the models are estimating parameters\n",
    "# in relation to each other.\n",
    "fig, ax = plt.subplots()\n",
    "ax = sns.pointplot(x='estimate', y='param', hue='model',\n",
    "                  data=mod_results,\n",
    "                  dodge=True, # jitter the points\n",
    "                  join=False)  # don't connect the points\n",
    "plt.tight_layout()\n",
    "plt.show()"
   ]
  },
  {
   "cell_type": "markdown",
   "metadata": {},
   "source": [
    "Now that we have our linear models, we can use the **analysis of variance (ANOVA)** method to compare them. ANOVA gives us the **residual sum of squares (RSS)**, which is one way to measure performance (lower is better)."
   ]
  },
  {
   "cell_type": "code",
   "execution_count": 42,
   "metadata": {},
   "outputs": [
    {
     "name": "stdout",
     "output_type": "stream",
     "text": [
      "        df_resid           ssr  df_diff        ss_diff          F  \\\n",
      "house1    2619.0  4.922389e+06      0.0            NaN        NaN   \n",
      "house2    2618.0  4.884872e+06      1.0   37517.437605  20.039049   \n",
      "house3    2612.0  4.619926e+06      6.0  264945.539994  23.585728   \n",
      "house4    2609.0  4.576671e+06      3.0   43255.441192   7.701289   \n",
      "house5    2618.0  4.901463e+06     -9.0 -324791.847907  19.275539   \n",
      "\n",
      "              Pr(>F)  \n",
      "house1           NaN  \n",
      "house2  7.912333e-06  \n",
      "house3  2.754431e-27  \n",
      "house4  4.025581e-05  \n",
      "house5           NaN  \n"
     ]
    }
   ],
   "source": [
    "model_names = ['house1', 'house2', 'house3', 'house4', 'house5']\n",
    "house_anova = statsmodels.stats.anova.anova_lm(\n",
    "    house1, house2, house3, house4, house5)\n",
    "house_anova.index = model_names\n",
    "print(house_anova)"
   ]
  },
  {
   "cell_type": "markdown",
   "metadata": {},
   "source": [
    "Another way we can calculate model performance is by using the **Akaike Information Criterion (AIC)** and the **Bayesian Information Criterion (BIC)**. These methods apply a penalty for each feature that is added to the model. Thus, we should strive to balance performance and parsimony (lower is better)."
   ]
  },
  {
   "cell_type": "code",
   "execution_count": 43,
   "metadata": {},
   "outputs": [],
   "source": [
    "house_models = [house1, house2, house3, house4, house5]\n",
    "house_aic = list(map(statsmodels.regression.linear_model.RegressionResults.aic, house_models))\n",
    "house_bic = list(map(statsmodels.regression.linear_model.RegressionResults.bic, house_models))\n",
    "\n",
    "# Dicts are unordered\n",
    "abic = pd.DataFrame({\n",
    "    'model': model_names,\n",
    "    'aic': house_aic,\n",
    "    'bic': house_bic\n",
    "})"
   ]
  },
  {
   "cell_type": "code",
   "execution_count": 44,
   "metadata": {},
   "outputs": [
    {
     "name": "stdout",
     "output_type": "stream",
     "text": [
      "    model           aic           bic\n",
      "0  house1  27256.031113  27297.143632\n",
      "1  house2  27237.939618  27284.925354\n",
      "2  house3  27103.502577  27185.727615\n",
      "3  house4  27084.800043  27184.644733\n",
      "4  house5  27246.843392  27293.829128\n"
     ]
    }
   ],
   "source": [
    "print(abic)"
   ]
  },
  {
   "cell_type": "markdown",
   "metadata": {},
   "source": [
    "#### Working with GLM Models\n",
    "We can perform the same calculations and model diagnostics on GLMs. However, the ANOVA is simpy the deviance of the model."
   ]
  },
  {
   "cell_type": "code",
   "execution_count": 45,
   "metadata": {},
   "outputs": [
    {
     "name": "stdout",
     "output_type": "stream",
     "text": [
      "   df_residuals  resid_stddev  df      deviance\n",
      "0          2619  4.922389e+06   6  4.922389e+06\n",
      "1          2618  4.884872e+06   7  4.884872e+06\n",
      "2          2612  4.619926e+06  13  4.619926e+06\n",
      "3          2609  4.576671e+06  16  4.576671e+06\n",
      "4          2618  4.901463e+06   7  4.901463e+06\n"
     ]
    }
   ],
   "source": [
    "def anova_deviance_table(*models):\n",
    "    return pd.DataFrame({\n",
    "        'df_residuals': [i.df_resid for i in models],\n",
    "        'resid_stddev': [i.deviance for i in models],\n",
    "        'df': [i.df_model for i in models],\n",
    "        'deviance': [i.deviance for i in models]\n",
    "    })\n",
    "\n",
    "glm1 = smf.glm(f1, data=housing).fit()\n",
    "glm2 = smf.glm(f2, data=housing).fit()\n",
    "glm3 = smf.glm(f3, data=housing).fit()\n",
    "glm4 = smf.glm(f4, data=housing).fit()\n",
    "glm5 = smf.glm(f5, data=housing).fit()\n",
    "\n",
    "glm_anova = anova_deviance_table(glm1, glm2, glm3, glm4, glm5)\n",
    "print(glm_anova)"
   ]
  },
  {
   "cell_type": "code",
   "execution_count": 46,
   "metadata": {},
   "outputs": [
    {
     "name": "stdout",
     "output_type": "stream",
     "text": [
      "0    1619\n",
      "1    1007\n",
      "Name: high_value, dtype: int64\n"
     ]
    }
   ],
   "source": [
    "# We can do the same set of calculations in a logistic regression.\n",
    "\n",
    "# Create a new binary variable\n",
    "housing['high_value'] = (housing['value_per_sq_ft'] >= 150).astype(int)\n",
    "print(housing['high_value'].value_counts())"
   ]
  },
  {
   "cell_type": "code",
   "execution_count": 47,
   "metadata": {},
   "outputs": [
    {
     "name": "stderr",
     "output_type": "stream",
     "text": [
      "c:\\users\\ugdk93\\env\\lib\\site-packages\\ipykernel_launcher.py:9: DeprecationWarning: Calling Family(..) with a link class as argument is deprecated.\n",
      "Use an instance of a link class instead.\n",
      "  if __name__ == '__main__':\n"
     ]
    },
    {
     "name": "stdout",
     "output_type": "stream",
     "text": [
      "   df_residuals  resid_stddev  df     deviance\n",
      "0          2619   1695.631547   6  1695.631547\n",
      "1          2618   1686.126740   7  1686.126740\n",
      "2          2612   1636.492830  13  1636.492830\n",
      "3          2609   1619.431515  16  1619.431515\n",
      "4          2618   1666.615696   7  1666.615696\n"
     ]
    }
   ],
   "source": [
    "# Create and fit a logistic regression using GLM\n",
    "f1 = 'high_value ~ units + sq_ft + boro'\n",
    "f2 = 'high_value ~ units * sq_ft + boro'\n",
    "f3 = 'high_value ~ units + sq_ft * boro + type'\n",
    "f4 = 'high_value ~ units + sq_ft * boro + sq_ft * type'\n",
    "f5 = 'high_value ~ boro + type'\n",
    "\n",
    "logistic = statsmodels.genmod.families.family.Binomial(\n",
    "    link=statsmodels.genmod.families.links.logit)\n",
    "\n",
    "glm1 = smf.glm(f1, data=housing, family=logistic).fit()\n",
    "glm2 = smf.glm(f2, data=housing, family=logistic).fit()\n",
    "glm3 = smf.glm(f3, data=housing, family=logistic).fit()\n",
    "glm4 = smf.glm(f4, data=housing, family=logistic).fit()\n",
    "glm5 = smf.glm(f5, data=housing, family=logistic).fit()\n",
    "\n",
    "# Show the deviances from the GLM models\n",
    "print(anova_deviance_table(glm1, glm2, glm3, glm4, glm5))"
   ]
  },
  {
   "cell_type": "code",
   "execution_count": 48,
   "metadata": {},
   "outputs": [
    {
     "name": "stdout",
     "output_type": "stream",
     "text": [
      "    model          aic          bic\n",
      "0  house1  1709.631547  1750.744066\n",
      "1  house2  1702.126740  1749.112476\n",
      "2  house3  1664.492830  1746.717869\n",
      "3  house4  1653.431515  1753.276205\n",
      "4  house5  1682.615696  1729.601432\n"
     ]
    }
   ],
   "source": [
    "# Finally, create a table of AIC and BIC values.\n",
    "mods = [glm1, glm2, glm3, glm4, glm5]\n",
    "\n",
    "mods_aic = list(map(statsmodels.regression.linear_model.RegressionResults.aic, mods))\n",
    "mods_bic = list(map(statsmodels.regression.linear_model.RegressionResults.bic, mods))\n",
    "\n",
    "# Dicts are unordered\n",
    "abic = pd.DataFrame({\n",
    "    'model': model_names,\n",
    "    'aic': mods_aic,\n",
    "    'bic': mods_bic\n",
    "})\n",
    "print(abic)"
   ]
  },
  {
   "cell_type": "markdown",
   "metadata": {},
   "source": [
    "*********************************************************\n",
    "### *k*-Fold Cross-Validation\n",
    "\n",
    "Cross-validation, another method to compare models, can account for how well a model performs on new data. It holds one of the *k* parts aside as the \"test\" set and then fits the model on the remaining *k - 1* parts--the \"training\" set. The fitted model is then used on the \"test\" set and an error rate si calculated. The process is repeated until all **k** parts have been used as a \"test\" set. The final error of the model is some average across all the models."
   ]
  },
  {
   "cell_type": "code",
   "execution_count": 49,
   "metadata": {},
   "outputs": [
    {
     "name": "stdout",
     "output_type": "stream",
     "text": [
      "Index(['neighborhood', 'type', 'units', 'year_built', 'sq_ft', 'income',\n",
      "       'income_per_sq_ft', 'expense', 'expense_per_sq_ft', 'net_income',\n",
      "       'value', 'value_per_sq_ft', 'boro', 'high_value'],\n",
      "      dtype='object')\n"
     ]
    }
   ],
   "source": [
    "from sklearn.model_selection import train_test_split\n",
    "from sklearn.linear_model import LinearRegression\n",
    "\n",
    "print(housing.columns)"
   ]
  },
  {
   "cell_type": "code",
   "execution_count": 50,
   "metadata": {},
   "outputs": [],
   "source": [
    "# get training and test data\n",
    "X_train, X_test, y_train, y_test = train_test_split(\n",
    "    pd.get_dummies(housing[['units', 'sq_ft', 'boro']], drop_first=True),\n",
    "    housing['value_per_sq_ft'],\n",
    "    test_size=0.20,\n",
    "    random_state=42\n",
    ")"
   ]
  },
  {
   "cell_type": "code",
   "execution_count": 51,
   "metadata": {},
   "outputs": [
    {
     "name": "stdout",
     "output_type": "stream",
     "text": [
      "0.613712528503087\n"
     ]
    }
   ],
   "source": [
    "# Get a score indicating how well our model is performing using the test data.\n",
    "lr = LinearRegression().fit(X_train, y_train)\n",
    "print(lr.score(X_test, y_test))"
   ]
  },
  {
   "cell_type": "code",
   "execution_count": 52,
   "metadata": {},
   "outputs": [
    {
     "data": {
      "text/html": [
       "<div>\n",
       "<style scoped>\n",
       "    .dataframe tbody tr th:only-of-type {\n",
       "        vertical-align: middle;\n",
       "    }\n",
       "\n",
       "    .dataframe tbody tr th {\n",
       "        vertical-align: top;\n",
       "    }\n",
       "\n",
       "    .dataframe thead th {\n",
       "        text-align: right;\n",
       "    }\n",
       "</style>\n",
       "<table border=\"1\" class=\"dataframe\">\n",
       "  <thead>\n",
       "    <tr style=\"text-align: right;\">\n",
       "      <th></th>\n",
       "      <th>Intercept</th>\n",
       "      <th>boro[T.Brooklyn]</th>\n",
       "      <th>boro[T.Manhattan]</th>\n",
       "      <th>boro[T.Queens]</th>\n",
       "      <th>boro[T.Staten Island]</th>\n",
       "      <th>units</th>\n",
       "      <th>sq_ft</th>\n",
       "    </tr>\n",
       "  </thead>\n",
       "  <tbody>\n",
       "    <tr>\n",
       "      <th>0</th>\n",
       "      <td>0.0</td>\n",
       "      <td>33.369037</td>\n",
       "      <td>129.904011</td>\n",
       "      <td>32.103100</td>\n",
       "      <td>-4.381085</td>\n",
       "      <td>-0.205890</td>\n",
       "      <td>0.000220</td>\n",
       "    </tr>\n",
       "    <tr>\n",
       "      <th>0</th>\n",
       "      <td>0.0</td>\n",
       "      <td>32.889925</td>\n",
       "      <td>116.957385</td>\n",
       "      <td>31.295956</td>\n",
       "      <td>-4.919232</td>\n",
       "      <td>-0.146180</td>\n",
       "      <td>0.000155</td>\n",
       "    </tr>\n",
       "    <tr>\n",
       "      <th>0</th>\n",
       "      <td>0.0</td>\n",
       "      <td>30.975560</td>\n",
       "      <td>141.859327</td>\n",
       "      <td>32.043449</td>\n",
       "      <td>-4.379916</td>\n",
       "      <td>-0.179671</td>\n",
       "      <td>0.000194</td>\n",
       "    </tr>\n",
       "    <tr>\n",
       "      <th>0</th>\n",
       "      <td>0.0</td>\n",
       "      <td>41.449196</td>\n",
       "      <td>130.779013</td>\n",
       "      <td>33.050968</td>\n",
       "      <td>-3.430209</td>\n",
       "      <td>-0.207904</td>\n",
       "      <td>0.000232</td>\n",
       "    </tr>\n",
       "    <tr>\n",
       "      <th>0</th>\n",
       "      <td>0.0</td>\n",
       "      <td>-38.511915</td>\n",
       "      <td>56.069855</td>\n",
       "      <td>-17.557939</td>\n",
       "      <td>0.000000</td>\n",
       "      <td>-0.145829</td>\n",
       "      <td>0.000202</td>\n",
       "    </tr>\n",
       "  </tbody>\n",
       "</table>\n",
       "</div>"
      ],
      "text/plain": [
       "   Intercept  boro[T.Brooklyn]  boro[T.Manhattan]  boro[T.Queens]  \\\n",
       "0        0.0         33.369037         129.904011       32.103100   \n",
       "0        0.0         32.889925         116.957385       31.295956   \n",
       "0        0.0         30.975560         141.859327       32.043449   \n",
       "0        0.0         41.449196         130.779013       33.050968   \n",
       "0        0.0        -38.511915          56.069855      -17.557939   \n",
       "\n",
       "   boro[T.Staten Island]     units     sq_ft  \n",
       "0              -4.381085 -0.205890  0.000220  \n",
       "0              -4.919232 -0.146180  0.000155  \n",
       "0              -4.379916 -0.179671  0.000194  \n",
       "0              -3.430209 -0.207904  0.000232  \n",
       "0               0.000000 -0.145829  0.000202  "
      ]
     },
     "execution_count": 52,
     "metadata": {},
     "output_type": "execute_result"
    }
   ],
   "source": [
    "# Perform a k-fold cross-validation\n",
    "from sklearn.model_selection import KFold, cross_val_score\n",
    "from patsy import dmatrices\n",
    "\n",
    "# get a fresh new housing data set\n",
    "housing = pd.read_csv('../data/housing_renamed.csv')\n",
    "kf = KFold(n_splits=5) # as a very general rule, pick a k between 5 and 10.\n",
    "y, X = dmatrices('value_per_sq_ft ~ units + sq_ft + boro', housing)\n",
    "\n",
    "# Train the model on each fold.\n",
    "coefs = []\n",
    "scores = []\n",
    "for train, test in kf.split(X):\n",
    "    X_train, X_test = X[train], X[test]\n",
    "    y_train, y_test = y[train], y[test]\n",
    "    lr = LinearRegression().fit(X_train, y_train)\n",
    "    coefs.append(pd.DataFrame(lr.coef_))\n",
    "    scores.append(lr.score(X_test, y_test))\n",
    "    \n",
    "# View results\n",
    "coefs_df = pd.concat(coefs)\n",
    "coefs_df.columns = X.design_info.column_names\n",
    "coefs_df"
   ]
  },
  {
   "cell_type": "code",
   "execution_count": 53,
   "metadata": {},
   "outputs": [
    {
     "name": "stdout",
     "output_type": "stream",
     "text": [
      "Intercept                  0.000000\n",
      "boro[T.Brooklyn]          20.034361\n",
      "boro[T.Manhattan]        115.113918\n",
      "boro[T.Queens]            22.187107\n",
      "boro[T.Staten Island]     -3.422088\n",
      "units                     -0.177095\n",
      "sq_ft                      0.000201\n",
      "dtype: float64\n"
     ]
    }
   ],
   "source": [
    "# Compute average coefficient across all folds.\n",
    "print(coefs_df.apply(np.mean))"
   ]
  },
  {
   "cell_type": "code",
   "execution_count": 54,
   "metadata": {},
   "outputs": [
    {
     "name": "stdout",
     "output_type": "stream",
     "text": [
      "[0.027314162909386153, -0.5538362212297483, -0.1563637168803247, -0.323420206185989, -1.692965558624492]\n"
     ]
    }
   ],
   "source": [
    "# Scores for the LinearRegression method are R squared (coefficient of determination).\n",
    "print(scores)"
   ]
  },
  {
   "cell_type": "code",
   "execution_count": 55,
   "metadata": {},
   "outputs": [
    {
     "name": "stdout",
     "output_type": "stream",
     "text": [
      "[ 0.02731416 -0.55383622 -0.15636372 -0.32342021 -1.69296556]\n"
     ]
    }
   ],
   "source": [
    "# Alternatively, use cross_val_scores to calculate scores.\n",
    "model = LinearRegression()\n",
    "scores = cross_val_score(model, X, y, cv=5)\n",
    "print(scores)"
   ]
  },
  {
   "cell_type": "code",
   "execution_count": 56,
   "metadata": {},
   "outputs": [
    {
     "name": "stdout",
     "output_type": "stream",
     "text": [
      "0   -5.398543e-01\n",
      "1   -4.806966e+25\n",
      "2   -4.806966e+25\n",
      "3   -1.532839e+25\n",
      "4   -3.119081e+24\n",
      "dtype: float64\n"
     ]
    }
   ],
   "source": [
    "# Refit all models using k-fold cross-validation\n",
    "\n",
    "# Create the predictor and response matrices\n",
    "y1, X1 = dmatrices('value_per_sq_ft ~ units + sq_ft + boro', housing)\n",
    "y2, X2 = dmatrices('value_per_sq_ft ~ units * sq_ft + boro', housing)\n",
    "y3, X3 = dmatrices('value_per_sq_ft ~ units + sq_ft * boro + type', housing)\n",
    "y4, X4 = dmatrices('value_per_sq_ft ~ units + sq_ft * boro + sq_ft * type', housing)\n",
    "y5, X5 = dmatrices('value_per_sq_ft ~ boro + type', housing)\n",
    "\n",
    "# Fit linear models\n",
    "model = LinearRegression()\n",
    "\n",
    "scores1 = cross_val_score(model, X1, y1, cv=5)\n",
    "scores2 = cross_val_score(model, X2, y2, cv=5)\n",
    "scores3 = cross_val_score(model, X3, y3, cv=5)\n",
    "scores4 = cross_val_score(model, X4, y4, cv=5)\n",
    "scores5 = cross_val_score(model, X5, y5, cv=5)\n",
    "\n",
    "scores_df = pd.DataFrame([scores1, scores3, scores3, scores4, scores5])\n",
    "print(scores_df.apply(np.mean, axis=1))"
   ]
  },
  {
   "cell_type": "markdown",
   "metadata": {},
   "source": [
    "**Note that throughout all the comparisons, model 4 has consistently had the lowest scores, and therefore has the best performance.**"
   ]
  },
  {
   "cell_type": "markdown",
   "metadata": {},
   "source": [
    "*********************************************************\n",
    "## Regularization\n",
    "\n",
    "**Goal: Improve performance by preventing overfitting.**"
   ]
  },
  {
   "cell_type": "code",
   "execution_count": 57,
   "metadata": {},
   "outputs": [
    {
     "name": "stdout",
     "output_type": "stream",
     "text": [
      "Index(['Acres', 'FamilyIncome', 'FamilyType', 'NumBedrooms', 'NumChildren',\n",
      "       'NumPeople', 'NumRooms', 'NumUnits', 'NumVehicles', 'NumWorkers',\n",
      "       'OwnRent', 'YearBuilt', 'HouseCosts', 'ElectricBill', 'FoodStamp',\n",
      "       'HeatingFuel', 'Insurance', 'Language'],\n",
      "      dtype='object')\n"
     ]
    }
   ],
   "source": [
    "# Start with a base case of linear regression using the ACS data.\n",
    "acs = pd.read_csv('../data/acs_ny.csv')\n",
    "print(acs.columns)"
   ]
  },
  {
   "cell_type": "code",
   "execution_count": 58,
   "metadata": {},
   "outputs": [],
   "source": [
    "response, predictors = dmatrices('FamilyIncome ~ NumBedrooms + NumChildren + NumPeople + ' \\\n",
    "                                'NumRooms + NumUnits + NumVehicles + NumWorkers + OwnRent + ' \\\n",
    "                                'YearBuilt + ElectricBill + FoodStamp + HeatingFuel + ' \\\n",
    "                                'Insurance + Language', data=acs)"
   ]
  },
  {
   "cell_type": "code",
   "execution_count": 59,
   "metadata": {},
   "outputs": [
    {
     "name": "stdout",
     "output_type": "stream",
     "text": [
      "                       variable       coef_lr\n",
      "0                     Intercept  3.522660e-11\n",
      "1   NumUnits[T.Single attached]  3.135646e+04\n",
      "2   NumUnits[T.Single detached]  2.418368e+04\n",
      "3           OwnRent[T.Outright]  2.839186e+04\n",
      "4             OwnRent[T.Rented]  7.229586e+03\n",
      "5        YearBuilt[T.1940-1949]  1.292169e+04\n",
      "6        YearBuilt[T.1950-1959]  2.057793e+04\n",
      "7        YearBuilt[T.1960-1969]  1.764835e+04\n",
      "8        YearBuilt[T.1970-1979]  1.756881e+04\n",
      "9        YearBuilt[T.1980-1989]  2.552566e+04\n",
      "10       YearBuilt[T.1990-1999]  2.983944e+04\n",
      "11       YearBuilt[T.2000-2004]  3.012502e+04\n",
      "12            YearBuilt[T.2005]  4.318648e+04\n",
      "13            YearBuilt[T.2006]  3.242038e+04\n",
      "14            YearBuilt[T.2007]  3.562061e+04\n",
      "15            YearBuilt[T.2008]  3.712470e+04\n",
      "16            YearBuilt[T.2009]  3.035133e+04\n",
      "17            YearBuilt[T.2010]  7.364529e+04\n",
      "18     YearBuilt[T.Before 1939]  1.218711e+04\n",
      "19             FoodStamp[T.Yes] -2.745712e+04\n",
      "20   HeatingFuel[T.Electricity]  1.946552e+04\n",
      "21           HeatingFuel[T.Gas]  2.588482e+04\n",
      "22          HeatingFuel[T.None]  2.532452e+04\n",
      "23           HeatingFuel[T.Oil]  2.535803e+04\n",
      "24         HeatingFuel[T.Other]  1.734533e+04\n",
      "25         HeatingFuel[T.Solar]  8.424991e+03\n",
      "26          HeatingFuel[T.Wood]  8.898002e+02\n",
      "27          Language[T.English] -1.873624e+04\n",
      "28            Language[T.Other] -4.463333e+03\n",
      "29   Language[T.Other European] -1.409466e+04\n",
      "30          Language[T.Spanish] -2.603347e+04\n",
      "31                  NumBedrooms  3.443931e+03\n",
      "32                  NumChildren  8.215723e+03\n",
      "33                    NumPeople -8.203826e+03\n",
      "34                     NumRooms  5.735494e+03\n",
      "35                  NumVehicles  7.484535e+03\n",
      "36                   NumWorkers  2.283630e+04\n",
      "37                 ElectricBill  9.332524e+01\n",
      "38                    Insurance  3.099441e+01\n"
     ]
    }
   ],
   "source": [
    "X_train, X_test, y_train, y_test = train_test_split(predictors, response, random_state=0)\n",
    "lr = LinearRegression(normalize=True).fit(X_train, y_train)\n",
    "model_coefs = pd.DataFrame(list(zip(predictors.design_info.column_names, lr.coef_[0])),\n",
    "                          columns=['variable', 'coef_lr'])\n",
    "print(model_coefs)"
   ]
  },
  {
   "cell_type": "code",
   "execution_count": 60,
   "metadata": {},
   "outputs": [
    {
     "name": "stdout",
     "output_type": "stream",
     "text": [
      "0.2726140465638568\n"
     ]
    }
   ],
   "source": [
    "# Model scores.\n",
    "print(lr.score(X_train, y_train))"
   ]
  },
  {
   "cell_type": "code",
   "execution_count": 61,
   "metadata": {},
   "outputs": [
    {
     "name": "stdout",
     "output_type": "stream",
     "text": [
      "0.269769795684881\n"
     ]
    }
   ],
   "source": [
    "print(lr.score(X_test, y_test))"
   ]
  },
  {
   "cell_type": "markdown",
   "metadata": {},
   "source": [
    "### LASSO (Least Absolute Shrinkage & Selection Operator) Regression"
   ]
  },
  {
   "cell_type": "code",
   "execution_count": 62,
   "metadata": {},
   "outputs": [
    {
     "name": "stdout",
     "output_type": "stream",
     "text": [
      "                       variable       coef_lr    coef_lasso\n",
      "0                     Intercept  3.522660e-11      0.000000\n",
      "1   NumUnits[T.Single attached]  3.135646e+04  23847.097905\n",
      "2   NumUnits[T.Single detached]  2.418368e+04  20278.620009\n",
      "3           OwnRent[T.Outright]  2.839186e+04  30153.611697\n",
      "4             OwnRent[T.Rented]  7.229586e+03   1440.140884\n",
      "5        YearBuilt[T.1940-1949]  1.292169e+04  -6382.312453\n",
      "6        YearBuilt[T.1950-1959]  2.057793e+04   -905.142030\n",
      "7        YearBuilt[T.1960-1969]  1.764835e+04     -0.000000\n",
      "8        YearBuilt[T.1970-1979]  1.756881e+04  -1579.827129\n",
      "9        YearBuilt[T.1980-1989]  2.552566e+04   7854.066748\n",
      "10       YearBuilt[T.1990-1999]  2.983944e+04   1355.026160\n",
      "11       YearBuilt[T.2000-2004]  3.012502e+04  11212.207583\n",
      "12            YearBuilt[T.2005]  4.318648e+04   8770.315635\n",
      "13            YearBuilt[T.2006]  3.242038e+04  34814.310436\n",
      "14            YearBuilt[T.2007]  3.562061e+04  27415.800873\n",
      "15            YearBuilt[T.2008]  3.712470e+04  10866.123988\n",
      "16            YearBuilt[T.2009]  3.035133e+04    312.110532\n",
      "17            YearBuilt[T.2010]  7.364529e+04  10093.244533\n",
      "18     YearBuilt[T.Before 1939]  1.218711e+04  -4903.325664\n",
      "19             FoodStamp[T.Yes] -2.745712e+04 -23717.406880\n",
      "20   HeatingFuel[T.Electricity]  1.946552e+04   1775.625749\n",
      "21           HeatingFuel[T.Gas]  2.588482e+04  12410.061671\n",
      "22          HeatingFuel[T.None]  2.532452e+04  -4153.735420\n",
      "23           HeatingFuel[T.Oil]  2.535803e+04  10009.595676\n",
      "24         HeatingFuel[T.Other]  1.734533e+04  -6803.711978\n",
      "25         HeatingFuel[T.Solar]  8.424991e+03      0.000000\n",
      "26          HeatingFuel[T.Wood]  8.898002e+02  -9398.444417\n",
      "27          Language[T.English] -1.873624e+04  -8076.201004\n",
      "28            Language[T.Other] -4.463333e+03 -21403.661071\n",
      "29   Language[T.Other European] -1.409466e+04  -9113.511553\n",
      "30          Language[T.Spanish] -2.603347e+04 -14321.350716\n",
      "31                  NumBedrooms  3.443931e+03   3976.075383\n",
      "32                  NumChildren  8.215723e+03   5652.313652\n",
      "33                    NumPeople -8.203826e+03  -5903.547002\n",
      "34                     NumRooms  5.735494e+03   4612.117329\n",
      "35                  NumVehicles  7.484535e+03   7736.529456\n",
      "36                   NumWorkers  2.283630e+04  20346.201513\n",
      "37                 ElectricBill  9.332524e+01     89.504660\n",
      "38                    Insurance  3.099441e+01     31.954902\n"
     ]
    }
   ],
   "source": [
    "from sklearn.linear_model import Lasso\n",
    "lasso = Lasso(normalize=True, random_state=0).fit(X_test, y_test)\n",
    "\n",
    "# Get a dataframe of coefficients and combine them with our linear regression results.\n",
    "coefs_lasso = pd.DataFrame(\n",
    "    list(zip(predictors.design_info.column_names, lasso.coef_)),\n",
    "    columns=['variable', 'coef_lasso'])\n",
    "\n",
    "model_coefs = pd.merge(model_coefs, coefs_lasso, on='variable')\n",
    "print(model_coefs)"
   ]
  },
  {
   "cell_type": "code",
   "execution_count": 63,
   "metadata": {},
   "outputs": [
    {
     "name": "stdout",
     "output_type": "stream",
     "text": [
      "0.26670104659430227\n",
      "0.27506204638605314\n"
     ]
    }
   ],
   "source": [
    "# Finally, let's look at the training and test data scores.\n",
    "print(lasso.score(X_train, y_train))\n",
    "print(lasso.score(X_test, y_test))"
   ]
  },
  {
   "cell_type": "markdown",
   "metadata": {},
   "source": [
    "**Note that the test results are a little better than the training results, indicating an improvement when using new, unseen data.**"
   ]
  },
  {
   "cell_type": "markdown",
   "metadata": {},
   "source": [
    "### Ridge Regression"
   ]
  },
  {
   "cell_type": "code",
   "execution_count": 66,
   "metadata": {},
   "outputs": [
    {
     "name": "stdout",
     "output_type": "stream",
     "text": [
      "                       variable       coef_lr    coef_lasso    coef_ridge\n",
      "0                     Intercept  3.522660e-11      0.000000      0.000000\n",
      "1   NumUnits[T.Single attached]  3.135646e+04  23847.097905   4571.129321\n",
      "2   NumUnits[T.Single detached]  2.418368e+04  20278.620009   4514.956813\n",
      "3           OwnRent[T.Outright]  2.839186e+04  30153.611697  10674.890982\n",
      "4             OwnRent[T.Rented]  7.229586e+03   1440.140884 -10180.631863\n",
      "5        YearBuilt[T.1940-1949]  1.292169e+04  -6382.312453  -3672.096659\n",
      "6        YearBuilt[T.1950-1959]  2.057793e+04   -905.142030   1221.616020\n",
      "7        YearBuilt[T.1960-1969]  1.764835e+04     -0.000000    -15.801437\n",
      "8        YearBuilt[T.1970-1979]  1.756881e+04  -1579.827129  -1868.746915\n",
      "9        YearBuilt[T.1980-1989]  2.552566e+04   7854.066748   2664.343363\n",
      "10       YearBuilt[T.1990-1999]  2.983944e+04   1355.026160   4079.639281\n",
      "11       YearBuilt[T.2000-2004]  3.012502e+04  11212.207583   5615.285677\n",
      "12            YearBuilt[T.2005]  4.318648e+04   8770.315635  12607.557029\n",
      "13            YearBuilt[T.2006]  3.242038e+04  34814.310436   5783.401233\n",
      "14            YearBuilt[T.2007]  3.562061e+04  27415.800873   8019.076178\n",
      "15            YearBuilt[T.2008]  3.712470e+04  10866.123988   7964.342869\n",
      "16            YearBuilt[T.2009]  3.035133e+04    312.110532   3892.605415\n",
      "17            YearBuilt[T.2010]  7.364529e+04  10093.244533  28469.966885\n",
      "18     YearBuilt[T.Before 1939]  1.218711e+04  -4903.325664  -4271.925584\n",
      "19             FoodStamp[T.Yes] -2.745712e+04 -23717.406880 -21854.708263\n",
      "20   HeatingFuel[T.Electricity]  1.946552e+04   1775.625749  -2043.214963\n",
      "21           HeatingFuel[T.Gas]  2.588482e+04  12410.061671   2043.550077\n",
      "22          HeatingFuel[T.None]  2.532452e+04  -4153.735420   1376.185561\n",
      "23           HeatingFuel[T.Oil]  2.535803e+04  10009.595676   2377.402169\n",
      "24         HeatingFuel[T.Other]  1.734533e+04  -6803.711978  -5135.068670\n",
      "25         HeatingFuel[T.Solar]  8.424991e+03      0.000000    589.799008\n",
      "26          HeatingFuel[T.Wood]  8.898002e+02  -9398.444417 -13652.201413\n",
      "27          Language[T.English] -1.873624e+04  -8076.201004  -3003.249668\n",
      "28            Language[T.Other] -4.463333e+03 -21403.661071   9067.969977\n",
      "29   Language[T.Other European] -1.409466e+04  -9113.511553   3059.003880\n",
      "30          Language[T.Spanish] -2.603347e+04 -14321.350716  -6155.075714\n",
      "31                  NumBedrooms  3.443931e+03   3976.075383   4690.469564\n",
      "32                  NumChildren  8.215723e+03   5652.313652   1102.877585\n",
      "33                    NumPeople -8.203826e+03  -5903.547002   -203.132130\n",
      "34                     NumRooms  5.735494e+03   4612.117329   3489.196546\n",
      "35                  NumVehicles  7.484535e+03   7736.529456   5245.929228\n",
      "36                   NumWorkers  2.283630e+04  20346.201513  10344.202715\n",
      "37                 ElectricBill  9.332524e+01     89.504660     68.784409\n",
      "38                    Insurance  3.099441e+01     31.954902     15.914804\n"
     ]
    }
   ],
   "source": [
    "from sklearn.linear_model import Ridge\n",
    "ridge = Ridge(normalize=True, random_state=0).fit(X_train, y_train)\n",
    "\n",
    "coefs_ridge = pd.DataFrame(list(zip(predictors.design_info.column_names, ridge.coef_[0])),\n",
    "                          columns=['variable', 'coef_ridge'])\n",
    "\n",
    "model_coefs = pd.merge(model_coefs, coefs_ridge, on='variable')\n",
    "print(model_coefs)"
   ]
  },
  {
   "cell_type": "markdown",
   "metadata": {},
   "source": [
    "### Elastic Net\n",
    "A regularization technique that combined the ridge and LASSO regression techniques."
   ]
  },
  {
   "cell_type": "code",
   "execution_count": 68,
   "metadata": {},
   "outputs": [
    {
     "name": "stdout",
     "output_type": "stream",
     "text": [
      "                       variable       coef_lr    coef_lasso    coef_ridge  \\\n",
      "0                     Intercept  3.522660e-11      0.000000      0.000000   \n",
      "1   NumUnits[T.Single attached]  3.135646e+04  23847.097905   4571.129321   \n",
      "2   NumUnits[T.Single detached]  2.418368e+04  20278.620009   4514.956813   \n",
      "3           OwnRent[T.Outright]  2.839186e+04  30153.611697  10674.890982   \n",
      "4             OwnRent[T.Rented]  7.229586e+03   1440.140884 -10180.631863   \n",
      "5        YearBuilt[T.1940-1949]  1.292169e+04  -6382.312453  -3672.096659   \n",
      "6        YearBuilt[T.1950-1959]  2.057793e+04   -905.142030   1221.616020   \n",
      "7        YearBuilt[T.1960-1969]  1.764835e+04     -0.000000    -15.801437   \n",
      "8        YearBuilt[T.1970-1979]  1.756881e+04  -1579.827129  -1868.746915   \n",
      "9        YearBuilt[T.1980-1989]  2.552566e+04   7854.066748   2664.343363   \n",
      "10       YearBuilt[T.1990-1999]  2.983944e+04   1355.026160   4079.639281   \n",
      "11       YearBuilt[T.2000-2004]  3.012502e+04  11212.207583   5615.285677   \n",
      "12            YearBuilt[T.2005]  4.318648e+04   8770.315635  12607.557029   \n",
      "13            YearBuilt[T.2006]  3.242038e+04  34814.310436   5783.401233   \n",
      "14            YearBuilt[T.2007]  3.562061e+04  27415.800873   8019.076178   \n",
      "15            YearBuilt[T.2008]  3.712470e+04  10866.123988   7964.342869   \n",
      "16            YearBuilt[T.2009]  3.035133e+04    312.110532   3892.605415   \n",
      "17            YearBuilt[T.2010]  7.364529e+04  10093.244533  28469.966885   \n",
      "18     YearBuilt[T.Before 1939]  1.218711e+04  -4903.325664  -4271.925584   \n",
      "19             FoodStamp[T.Yes] -2.745712e+04 -23717.406880 -21854.708263   \n",
      "20   HeatingFuel[T.Electricity]  1.946552e+04   1775.625749  -2043.214963   \n",
      "21           HeatingFuel[T.Gas]  2.588482e+04  12410.061671   2043.550077   \n",
      "22          HeatingFuel[T.None]  2.532452e+04  -4153.735420   1376.185561   \n",
      "23           HeatingFuel[T.Oil]  2.535803e+04  10009.595676   2377.402169   \n",
      "24         HeatingFuel[T.Other]  1.734533e+04  -6803.711978  -5135.068670   \n",
      "25         HeatingFuel[T.Solar]  8.424991e+03      0.000000    589.799008   \n",
      "26          HeatingFuel[T.Wood]  8.898002e+02  -9398.444417 -13652.201413   \n",
      "27          Language[T.English] -1.873624e+04  -8076.201004  -3003.249668   \n",
      "28            Language[T.Other] -4.463333e+03 -21403.661071   9067.969977   \n",
      "29   Language[T.Other European] -1.409466e+04  -9113.511553   3059.003880   \n",
      "30          Language[T.Spanish] -2.603347e+04 -14321.350716  -6155.075714   \n",
      "31                  NumBedrooms  3.443931e+03   3976.075383   4690.469564   \n",
      "32                  NumChildren  8.215723e+03   5652.313652   1102.877585   \n",
      "33                    NumPeople -8.203826e+03  -5903.547002   -203.132130   \n",
      "34                     NumRooms  5.735494e+03   4612.117329   3489.196546   \n",
      "35                  NumVehicles  7.484535e+03   7736.529456   5245.929228   \n",
      "36                   NumWorkers  2.283630e+04  20346.201513  10344.202715   \n",
      "37                 ElectricBill  9.332524e+01     89.504660     68.784409   \n",
      "38                    Insurance  3.099441e+01     31.954902     15.914804   \n",
      "\n",
      "         coef_en  \n",
      "0       0.000000  \n",
      "1    1342.291706  \n",
      "2     168.728479  \n",
      "3     445.533238  \n",
      "4    -600.673747  \n",
      "5    -794.239494  \n",
      "6     513.289101  \n",
      "7    -275.576200  \n",
      "8    -574.365605  \n",
      "9     708.813588  \n",
      "10   1357.944466  \n",
      "11    798.576141  \n",
      "12    445.271666  \n",
      "13    202.040682  \n",
      "14    222.170314  \n",
      "15    153.161478  \n",
      "16     88.228204  \n",
      "17    233.189152  \n",
      "18  -3053.705550  \n",
      "19  -4394.455708  \n",
      "20   -129.968032  \n",
      "21   1924.299033  \n",
      "22      0.000000  \n",
      "23    453.942244  \n",
      "24    -67.445065  \n",
      "25      0.994142  \n",
      "26  -1894.123724  \n",
      "27   -955.455328  \n",
      "28    374.835549  \n",
      "29    626.547311  \n",
      "30  -1367.763935  \n",
      "31   2073.910045  \n",
      "32   2498.719581  \n",
      "33  -2562.412933  \n",
      "34   5685.101939  \n",
      "35   6059.776166  \n",
      "36  12247.547800  \n",
      "37     97.566664  \n",
      "38     32.484207  \n"
     ]
    }
   ],
   "source": [
    "from sklearn.linear_model import ElasticNet\n",
    "\n",
    "en = ElasticNet(random_state=42).fit(X_train, y_train)\n",
    "coefs_en = pd.DataFrame(list(zip(predictors.design_info.column_names, en.coef_)),\n",
    "                          columns=['variable', 'coef_en'])\n",
    "\n",
    "model_coefs = pd.merge(model_coefs, coefs_en, on='variable')\n",
    "print(model_coefs)"
   ]
  },
  {
   "cell_type": "code",
   "execution_count": null,
   "metadata": {},
   "outputs": [],
   "source": []
  }
 ],
 "metadata": {
  "kernelspec": {
   "display_name": "Python 3",
   "language": "python",
   "name": "python3"
  },
  "language_info": {
   "codemirror_mode": {
    "name": "ipython",
    "version": 3
   },
   "file_extension": ".py",
   "mimetype": "text/x-python",
   "name": "python",
   "nbconvert_exporter": "python",
   "pygments_lexer": "ipython3",
   "version": "3.7.4"
  }
 },
 "nbformat": 4,
 "nbformat_minor": 4
}
